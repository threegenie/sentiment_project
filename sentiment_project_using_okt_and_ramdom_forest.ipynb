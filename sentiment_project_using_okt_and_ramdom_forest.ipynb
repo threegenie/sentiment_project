{
  "nbformat": 4,
  "nbformat_minor": 0,
  "metadata": {
    "colab": {
      "name": "sentiment_project_using_okt_and_ramdom_forest.ipynb",
      "provenance": [],
      "include_colab_link": true
    },
    "kernelspec": {
      "name": "python3",
      "display_name": "Python 3"
    },
    "language_info": {
      "name": "python"
    },
    "accelerator": "GPU"
  },
  "cells": [
    {
      "cell_type": "markdown",
      "metadata": {
        "id": "view-in-github",
        "colab_type": "text"
      },
      "source": [
        "<a href=\"https://colab.research.google.com/github/threegenie/sentiment_project/blob/main/sentiment_project_using_okt_and_ramdom_forest.ipynb\" target=\"_parent\"><img src=\"https://colab.research.google.com/assets/colab-badge.svg\" alt=\"Open In Colab\"/></a>"
      ]
    },
    {
      "cell_type": "markdown",
      "metadata": {
        "id": "hAEvhYID-5bL"
      },
      "source": [
        "## RandomForest 모델을 사용하여 감성분석 해보기 try try"
      ]
    },
    {
      "cell_type": "code",
      "metadata": {
        "id": "jsXg1HswALe-"
      },
      "source": [
        "! pip install konlpy"
      ],
      "execution_count": null,
      "outputs": []
    },
    {
      "cell_type": "code",
      "metadata": {
        "id": "7sgfTS43s6Yo"
      },
      "source": [
        "!sudo apt-get install -y fonts-nanum\n",
        "!sudo fc-cache -fv\n",
        "!rm ~/.cache/matplotlib -rf"
      ],
      "execution_count": null,
      "outputs": []
    },
    {
      "cell_type": "code",
      "metadata": {
        "id": "vPNxmDoYt2IQ",
        "colab": {
          "base_uri": "https://localhost:8080/"
        },
        "outputId": "42eb2657-9ccf-4872-f30b-745a2b1dc723"
      },
      "source": [
        "import matplotlib as mpl\n",
        "import matplotlib.pyplot as plt\n",
        "%config InlineBackend.figure_format = 'retina'\n",
        " \n",
        "!apt -qq -y install fonts-nanum\n",
        " \n",
        "import matplotlib.font_manager as fm\n",
        "fontpath = '/usr/share/fonts/truetype/nanum/NanumBarunGothic.ttf'\n",
        "font = fm.FontProperties(fname=fontpath, size=9)\n",
        "plt.rc('font', family='NanumBarunGothic') \n",
        "#mpl.font_manager._rebuild()\n",
        "\n",
        "# https://pinkwink.kr/1255 / https://teddylee777.github.io/colab/colab-korean 한글 문제 대응 참고"
      ],
      "execution_count": 3,
      "outputs": [
        {
          "output_type": "stream",
          "text": [
            "fonts-nanum is already the newest version (20170925-1).\n",
            "0 upgraded, 0 newly installed, 0 to remove and 39 not upgraded.\n"
          ],
          "name": "stdout"
        }
      ]
    },
    {
      "cell_type": "code",
      "metadata": {
        "id": "K1UjeNc_UygR"
      },
      "source": [
        "import pandas as pd\n",
        "import numpy as np\n",
        "import matplotlib.pyplot as plt\n",
        "import seaborn as sns\n",
        "import urllib.request\n",
        "from collections import Counter\n",
        "from sklearn.model_selection import train_test_split\n",
        "from tensorflow.keras.preprocessing.text import Tokenizer\n",
        "from tensorflow.keras.preprocessing.sequence import pad_sequences"
      ],
      "execution_count": 4,
      "outputs": []
    },
    {
      "cell_type": "code",
      "metadata": {
        "id": "59Y4Pm6MmvVW"
      },
      "source": [
        "# 오류(SettingWithCopyError 발생)\n",
        "pd.set_option('mode.chained_assignment', 'raise') # SettingWithCopyError\n",
        "\n",
        "# 경고(SettingWithCopyWarning 발생, 기본 값입니다)\n",
        "pd.set_option('mode.chained_assignment', 'warn') # SettingWithCopyWarning\n",
        "\n",
        "# 무시\n",
        "pd.set_option('mode.chained_assignment',  None) # <==== 경고를 끈다"
      ],
      "execution_count": 5,
      "outputs": []
    },
    {
      "cell_type": "code",
      "metadata": {
        "colab": {
          "base_uri": "https://localhost:8080/",
          "height": 419
        },
        "id": "h7RW-qvafpXH",
        "outputId": "330eaff7-7836-468a-e80d-c65bff6f57b8"
      },
      "source": [
        "df = pd.read_table('review.txt', names=['ratings', 'reviews'])\n",
        "df"
      ],
      "execution_count": 6,
      "outputs": [
        {
          "output_type": "execute_result",
          "data": {
            "text/html": [
              "<div>\n",
              "<style scoped>\n",
              "    .dataframe tbody tr th:only-of-type {\n",
              "        vertical-align: middle;\n",
              "    }\n",
              "\n",
              "    .dataframe tbody tr th {\n",
              "        vertical-align: top;\n",
              "    }\n",
              "\n",
              "    .dataframe thead th {\n",
              "        text-align: right;\n",
              "    }\n",
              "</style>\n",
              "<table border=\"1\" class=\"dataframe\">\n",
              "  <thead>\n",
              "    <tr style=\"text-align: right;\">\n",
              "      <th></th>\n",
              "      <th>ratings</th>\n",
              "      <th>reviews</th>\n",
              "    </tr>\n",
              "  </thead>\n",
              "  <tbody>\n",
              "    <tr>\n",
              "      <th>0</th>\n",
              "      <td>5</td>\n",
              "      <td>배공빠르고 굿</td>\n",
              "    </tr>\n",
              "    <tr>\n",
              "      <th>1</th>\n",
              "      <td>2</td>\n",
              "      <td>택배가 엉망이네용 저희집 밑에층에 말도없이 놔두고가고</td>\n",
              "    </tr>\n",
              "    <tr>\n",
              "      <th>2</th>\n",
              "      <td>5</td>\n",
              "      <td>아주좋아요 바지 정말 좋아서2개 더 구매했어요 이가격에 대박입니다. 바느질이 조금 ...</td>\n",
              "    </tr>\n",
              "    <tr>\n",
              "      <th>3</th>\n",
              "      <td>2</td>\n",
              "      <td>선물용으로 빨리 받아서 전달했어야 하는 상품이었는데 머그컵만 와서 당황했습니다. 전...</td>\n",
              "    </tr>\n",
              "    <tr>\n",
              "      <th>4</th>\n",
              "      <td>5</td>\n",
              "      <td>민트색상 예뻐요. 옆 손잡이는 거는 용도로도 사용되네요 ㅎㅎ</td>\n",
              "    </tr>\n",
              "    <tr>\n",
              "      <th>...</th>\n",
              "      <td>...</td>\n",
              "      <td>...</td>\n",
              "    </tr>\n",
              "    <tr>\n",
              "      <th>199995</th>\n",
              "      <td>2</td>\n",
              "      <td>장마라그런가!!! 달지않아요</td>\n",
              "    </tr>\n",
              "    <tr>\n",
              "      <th>199996</th>\n",
              "      <td>5</td>\n",
              "      <td>다이슨 케이스 구매했어요 다이슨 슈퍼소닉 드라이기 케이스 구매했어요가격 괜찮고 배송...</td>\n",
              "    </tr>\n",
              "    <tr>\n",
              "      <th>199997</th>\n",
              "      <td>5</td>\n",
              "      <td>로드샾에서 사는것보다 세배 저렴하네요 ㅜㅜ 자주이용할께요</td>\n",
              "    </tr>\n",
              "    <tr>\n",
              "      <th>199998</th>\n",
              "      <td>5</td>\n",
              "      <td>넘이쁘고 쎄련되보이네요~</td>\n",
              "    </tr>\n",
              "    <tr>\n",
              "      <th>199999</th>\n",
              "      <td>5</td>\n",
              "      <td>아직 사용해보지도않았고 다른 제품을 써본적이없어서 잘 모르겠지만 ㅎㅎ 배송은 빨랐습니다</td>\n",
              "    </tr>\n",
              "  </tbody>\n",
              "</table>\n",
              "<p>200000 rows × 2 columns</p>\n",
              "</div>"
            ],
            "text/plain": [
              "        ratings                                            reviews\n",
              "0             5                                            배공빠르고 굿\n",
              "1             2                      택배가 엉망이네용 저희집 밑에층에 말도없이 놔두고가고\n",
              "2             5  아주좋아요 바지 정말 좋아서2개 더 구매했어요 이가격에 대박입니다. 바느질이 조금 ...\n",
              "3             2  선물용으로 빨리 받아서 전달했어야 하는 상품이었는데 머그컵만 와서 당황했습니다. 전...\n",
              "4             5                  민트색상 예뻐요. 옆 손잡이는 거는 용도로도 사용되네요 ㅎㅎ\n",
              "...         ...                                                ...\n",
              "199995        2                                    장마라그런가!!! 달지않아요\n",
              "199996        5  다이슨 케이스 구매했어요 다이슨 슈퍼소닉 드라이기 케이스 구매했어요가격 괜찮고 배송...\n",
              "199997        5                    로드샾에서 사는것보다 세배 저렴하네요 ㅜㅜ 자주이용할께요\n",
              "199998        5                                      넘이쁘고 쎄련되보이네요~\n",
              "199999        5   아직 사용해보지도않았고 다른 제품을 써본적이없어서 잘 모르겠지만 ㅎㅎ 배송은 빨랐습니다\n",
              "\n",
              "[200000 rows x 2 columns]"
            ]
          },
          "metadata": {
            "tags": []
          },
          "execution_count": 6
        }
      ]
    },
    {
      "cell_type": "markdown",
      "metadata": {
        "id": "SHuhRb_JnKPL"
      },
      "source": [
        "#### 중복 데이터가 있다면 제거"
      ]
    },
    {
      "cell_type": "code",
      "metadata": {
        "colab": {
          "base_uri": "https://localhost:8080/"
        },
        "id": "3FRHGKE-kW8i",
        "outputId": "881f86b7-9bd7-4644-d000-b0c56e1ae022"
      },
      "source": [
        "df.drop_duplicates('reviews',keep='first')\n",
        "df.shape"
      ],
      "execution_count": 7,
      "outputs": [
        {
          "output_type": "execute_result",
          "data": {
            "text/plain": [
              "(200000, 2)"
            ]
          },
          "metadata": {
            "tags": []
          },
          "execution_count": 7
        }
      ]
    },
    {
      "cell_type": "markdown",
      "metadata": {
        "id": "7jAc07MLK_a9"
      },
      "source": [
        "중복 데이터가 없다."
      ]
    },
    {
      "cell_type": "markdown",
      "metadata": {
        "id": "Q1iMUOv0J-x5"
      },
      "source": [
        "#### 별이 3개인 어중간한 데이터 제거"
      ]
    },
    {
      "cell_type": "code",
      "metadata": {
        "colab": {
          "base_uri": "https://localhost:8080/"
        },
        "id": "DZdySBcLKCyc",
        "outputId": "303b0c32-57d8-4a2a-ee20-8f90da82b2f8"
      },
      "source": [
        "three = df[df['ratings']==3].index\n",
        "df = df.drop(three)\n",
        "df.shape"
      ],
      "execution_count": 8,
      "outputs": [
        {
          "output_type": "execute_result",
          "data": {
            "text/plain": [
              "(200000, 2)"
            ]
          },
          "metadata": {
            "tags": []
          },
          "execution_count": 8
        }
      ]
    },
    {
      "cell_type": "markdown",
      "metadata": {
        "id": "4vJclPxTK8F2"
      },
      "source": [
        "별 3개인 데이터가...없다...?!"
      ]
    },
    {
      "cell_type": "markdown",
      "metadata": {
        "id": "S9UQ2UNjiNlW"
      },
      "source": [
        "#### 훈련, 테스트셋 분리"
      ]
    },
    {
      "cell_type": "code",
      "metadata": {
        "colab": {
          "base_uri": "https://localhost:8080/"
        },
        "id": "dwjV7glBiQYv",
        "outputId": "89bddc97-7b0f-47ed-93a4-297f4d3f4176"
      },
      "source": [
        "train, val = train_test_split(df, test_size = 0.2, random_state = 11)\n",
        "train.shape, val.shape"
      ],
      "execution_count": 9,
      "outputs": [
        {
          "output_type": "execute_result",
          "data": {
            "text/plain": [
              "((160000, 2), (40000, 2))"
            ]
          },
          "metadata": {
            "tags": []
          },
          "execution_count": 9
        }
      ]
    },
    {
      "cell_type": "markdown",
      "metadata": {
        "id": "OdPlO-ZKh8Ie"
      },
      "source": [
        "#### 별점으로 라벨링 : 별점이 4을 넘으면 긍정 리뷰, 이하는 부정 리뷰로 분류"
      ]
    },
    {
      "cell_type": "code",
      "metadata": {
        "colab": {
          "base_uri": "https://localhost:8080/",
          "height": 419
        },
        "id": "cAQOvtzugkRG",
        "outputId": "b230d3e8-8f4f-4c3d-ddfb-8c6f6f239868"
      },
      "source": [
        "def star_evaluate(rating):\n",
        "  if rating >=4:\n",
        "    return 1\n",
        "  else:\n",
        "    return 0\n",
        "  \n",
        "train['label'] = train['ratings'].apply(star_evaluate)\n",
        "val['label'] = val['ratings'].apply(star_evaluate)\n",
        "train"
      ],
      "execution_count": 10,
      "outputs": [
        {
          "output_type": "execute_result",
          "data": {
            "text/html": [
              "<div>\n",
              "<style scoped>\n",
              "    .dataframe tbody tr th:only-of-type {\n",
              "        vertical-align: middle;\n",
              "    }\n",
              "\n",
              "    .dataframe tbody tr th {\n",
              "        vertical-align: top;\n",
              "    }\n",
              "\n",
              "    .dataframe thead th {\n",
              "        text-align: right;\n",
              "    }\n",
              "</style>\n",
              "<table border=\"1\" class=\"dataframe\">\n",
              "  <thead>\n",
              "    <tr style=\"text-align: right;\">\n",
              "      <th></th>\n",
              "      <th>ratings</th>\n",
              "      <th>reviews</th>\n",
              "      <th>label</th>\n",
              "    </tr>\n",
              "  </thead>\n",
              "  <tbody>\n",
              "    <tr>\n",
              "      <th>6173</th>\n",
              "      <td>5</td>\n",
              "      <td>머리끝이 많이 갈라져서 구매했습니다. 이미 갈라진 건 어쩔 수 없지만 뭔가 모발이 ...</td>\n",
              "      <td>1</td>\n",
              "    </tr>\n",
              "    <tr>\n",
              "      <th>62572</th>\n",
              "      <td>4</td>\n",
              "      <td>가방사이즈 딱 적절해서 좋고, 탄탄한 느낌이라 좋네요. 다만 새것 냄새가 2일째 빠...</td>\n",
              "      <td>1</td>\n",
              "    </tr>\n",
              "    <tr>\n",
              "      <th>102317</th>\n",
              "      <td>2</td>\n",
              "      <td>생각보다 짧아요 ㅠ</td>\n",
              "      <td>0</td>\n",
              "    </tr>\n",
              "    <tr>\n",
              "      <th>122006</th>\n",
              "      <td>2</td>\n",
              "      <td>별로따뜻하지도않고..벨브도돌리다밑에캡이빠져버리네여..ㅡㅡ그래서본드로붙였는데..노즐만...</td>\n",
              "      <td>0</td>\n",
              "    </tr>\n",
              "    <tr>\n",
              "      <th>111083</th>\n",
              "      <td>1</td>\n",
              "      <td>마스크는소형인데끈이대형이네요ㅎ 그것도 쉽게 끊어져요ㅜ</td>\n",
              "      <td>0</td>\n",
              "    </tr>\n",
              "    <tr>\n",
              "      <th>...</th>\n",
              "      <td>...</td>\n",
              "      <td>...</td>\n",
              "      <td>...</td>\n",
              "    </tr>\n",
              "    <tr>\n",
              "      <th>102327</th>\n",
              "      <td>1</td>\n",
              "      <td>완전 잘깨져요 이건 뭐 잠깐 바닥에 스치기만해도 깨져있어요</td>\n",
              "      <td>0</td>\n",
              "    </tr>\n",
              "    <tr>\n",
              "      <th>97617</th>\n",
              "      <td>2</td>\n",
              "      <td>바코드안떳어요</td>\n",
              "      <td>0</td>\n",
              "    </tr>\n",
              "    <tr>\n",
              "      <th>21584</th>\n",
              "      <td>2</td>\n",
              "      <td>네조아요. 필요해서 샀어요</td>\n",
              "      <td>0</td>\n",
              "    </tr>\n",
              "    <tr>\n",
              "      <th>36543</th>\n",
              "      <td>5</td>\n",
              "      <td>발열 엄청 오래 지속되고 냄새도 없고 만족합니다</td>\n",
              "      <td>1</td>\n",
              "    </tr>\n",
              "    <tr>\n",
              "      <th>141209</th>\n",
              "      <td>1</td>\n",
              "      <td>겉은 너무 달고 맛이 약간 부조화스럽네요</td>\n",
              "      <td>0</td>\n",
              "    </tr>\n",
              "  </tbody>\n",
              "</table>\n",
              "<p>160000 rows × 3 columns</p>\n",
              "</div>"
            ],
            "text/plain": [
              "        ratings                                            reviews  label\n",
              "6173          5  머리끝이 많이 갈라져서 구매했습니다. 이미 갈라진 건 어쩔 수 없지만 뭔가 모발이 ...      1\n",
              "62572         4  가방사이즈 딱 적절해서 좋고, 탄탄한 느낌이라 좋네요. 다만 새것 냄새가 2일째 빠...      1\n",
              "102317        2                                         생각보다 짧아요 ㅠ      0\n",
              "122006        2  별로따뜻하지도않고..벨브도돌리다밑에캡이빠져버리네여..ㅡㅡ그래서본드로붙였는데..노즐만...      0\n",
              "111083        1                      마스크는소형인데끈이대형이네요ㅎ 그것도 쉽게 끊어져요ㅜ      0\n",
              "...         ...                                                ...    ...\n",
              "102327        1                   완전 잘깨져요 이건 뭐 잠깐 바닥에 스치기만해도 깨져있어요      0\n",
              "97617         2                                            바코드안떳어요      0\n",
              "21584         2                                     네조아요. 필요해서 샀어요      0\n",
              "36543         5                         발열 엄청 오래 지속되고 냄새도 없고 만족합니다      1\n",
              "141209        1                             겉은 너무 달고 맛이 약간 부조화스럽네요      0\n",
              "\n",
              "[160000 rows x 3 columns]"
            ]
          },
          "metadata": {
            "tags": []
          },
          "execution_count": 10
        }
      ]
    },
    {
      "cell_type": "code",
      "metadata": {
        "colab": {
          "base_uri": "https://localhost:8080/"
        },
        "id": "axVnOACzmJ-6",
        "outputId": "c1baf944-9529-4eda-d87e-0d858a8808dc"
      },
      "source": [
        "train['label'].value_counts()"
      ],
      "execution_count": 11,
      "outputs": [
        {
          "output_type": "execute_result",
          "data": {
            "text/plain": [
              "0    80157\n",
              "1    79843\n",
              "Name: label, dtype: int64"
            ]
          },
          "metadata": {
            "tags": []
          },
          "execution_count": 11
        }
      ]
    },
    {
      "cell_type": "markdown",
      "metadata": {
        "id": "4qe_ms1umWpm"
      },
      "source": [
        "#### 데이터 정제 - 훈련, 테스트셋에 모두 적용 -> 정규표현식 사용하여 한글 제외 모두 제거"
      ]
    },
    {
      "cell_type": "code",
      "metadata": {
        "colab": {
          "base_uri": "https://localhost:8080/",
          "height": 204
        },
        "id": "wwviODNLkERO",
        "outputId": "a51befe1-f3ef-4c18-fecb-2e3f1ba2cc6a"
      },
      "source": [
        "train['reviews'] = train['reviews'].str.replace(\"[^ㄱ-ㅎㅏ-ㅣ가-힣 ]\",\"\")\n",
        "train['reviews'].replace('', np.nan, inplace=True)\n",
        "train.head()"
      ],
      "execution_count": 12,
      "outputs": [
        {
          "output_type": "execute_result",
          "data": {
            "text/html": [
              "<div>\n",
              "<style scoped>\n",
              "    .dataframe tbody tr th:only-of-type {\n",
              "        vertical-align: middle;\n",
              "    }\n",
              "\n",
              "    .dataframe tbody tr th {\n",
              "        vertical-align: top;\n",
              "    }\n",
              "\n",
              "    .dataframe thead th {\n",
              "        text-align: right;\n",
              "    }\n",
              "</style>\n",
              "<table border=\"1\" class=\"dataframe\">\n",
              "  <thead>\n",
              "    <tr style=\"text-align: right;\">\n",
              "      <th></th>\n",
              "      <th>ratings</th>\n",
              "      <th>reviews</th>\n",
              "      <th>label</th>\n",
              "    </tr>\n",
              "  </thead>\n",
              "  <tbody>\n",
              "    <tr>\n",
              "      <th>6173</th>\n",
              "      <td>5</td>\n",
              "      <td>머리끝이 많이 갈라져서 구매했습니다 이미 갈라진 건 어쩔 수 없지만 뭔가 모발이 더...</td>\n",
              "      <td>1</td>\n",
              "    </tr>\n",
              "    <tr>\n",
              "      <th>62572</th>\n",
              "      <td>4</td>\n",
              "      <td>가방사이즈 딱 적절해서 좋고 탄탄한 느낌이라 좋네요 다만 새것 냄새가 일째 빠지지 ...</td>\n",
              "      <td>1</td>\n",
              "    </tr>\n",
              "    <tr>\n",
              "      <th>102317</th>\n",
              "      <td>2</td>\n",
              "      <td>생각보다 짧아요 ㅠ</td>\n",
              "      <td>0</td>\n",
              "    </tr>\n",
              "    <tr>\n",
              "      <th>122006</th>\n",
              "      <td>2</td>\n",
              "      <td>별로따뜻하지도않고벨브도돌리다밑에캡이빠져버리네여ㅡㅡ그래서본드로붙였는데노즐만새로사야할듯...</td>\n",
              "      <td>0</td>\n",
              "    </tr>\n",
              "    <tr>\n",
              "      <th>111083</th>\n",
              "      <td>1</td>\n",
              "      <td>마스크는소형인데끈이대형이네요ㅎ 그것도 쉽게 끊어져요ㅜ</td>\n",
              "      <td>0</td>\n",
              "    </tr>\n",
              "  </tbody>\n",
              "</table>\n",
              "</div>"
            ],
            "text/plain": [
              "        ratings                                            reviews  label\n",
              "6173          5  머리끝이 많이 갈라져서 구매했습니다 이미 갈라진 건 어쩔 수 없지만 뭔가 모발이 더...      1\n",
              "62572         4  가방사이즈 딱 적절해서 좋고 탄탄한 느낌이라 좋네요 다만 새것 냄새가 일째 빠지지 ...      1\n",
              "102317        2                                         생각보다 짧아요 ㅠ      0\n",
              "122006        2  별로따뜻하지도않고벨브도돌리다밑에캡이빠져버리네여ㅡㅡ그래서본드로붙였는데노즐만새로사야할듯...      0\n",
              "111083        1                      마스크는소형인데끈이대형이네요ㅎ 그것도 쉽게 끊어져요ㅜ      0"
            ]
          },
          "metadata": {
            "tags": []
          },
          "execution_count": 12
        }
      ]
    },
    {
      "cell_type": "code",
      "metadata": {
        "colab": {
          "base_uri": "https://localhost:8080/",
          "height": 204
        },
        "id": "ww895LzIPA5n",
        "outputId": "2a5e5bfa-33ae-48fa-bac1-1d50e75545fb"
      },
      "source": [
        "val['reviews'] = val['reviews'].str.replace(\"[^ㄱ-ㅎㅏ-ㅣ가-힣 ]\",\"\")\n",
        "val['reviews'].replace('', np.nan, inplace=True)\n",
        "val.head()"
      ],
      "execution_count": 13,
      "outputs": [
        {
          "output_type": "execute_result",
          "data": {
            "text/html": [
              "<div>\n",
              "<style scoped>\n",
              "    .dataframe tbody tr th:only-of-type {\n",
              "        vertical-align: middle;\n",
              "    }\n",
              "\n",
              "    .dataframe tbody tr th {\n",
              "        vertical-align: top;\n",
              "    }\n",
              "\n",
              "    .dataframe thead th {\n",
              "        text-align: right;\n",
              "    }\n",
              "</style>\n",
              "<table border=\"1\" class=\"dataframe\">\n",
              "  <thead>\n",
              "    <tr style=\"text-align: right;\">\n",
              "      <th></th>\n",
              "      <th>ratings</th>\n",
              "      <th>reviews</th>\n",
              "      <th>label</th>\n",
              "    </tr>\n",
              "  </thead>\n",
              "  <tbody>\n",
              "    <tr>\n",
              "      <th>126682</th>\n",
              "      <td>5</td>\n",
              "      <td>조립하기힘들었어요 나사가짧아서</td>\n",
              "      <td>1</td>\n",
              "    </tr>\n",
              "    <tr>\n",
              "      <th>64852</th>\n",
              "      <td>2</td>\n",
              "      <td>ㅜㅜ 제가 인데 ㅜㅜ 진짜 너무너무커요 빨으니까 더 커졌어요ㅜ 잠옷으로 입으려구요</td>\n",
              "      <td>0</td>\n",
              "    </tr>\n",
              "    <tr>\n",
              "      <th>139941</th>\n",
              "      <td>1</td>\n",
              "      <td>만족하는데 배송이 개느림</td>\n",
              "      <td>0</td>\n",
              "    </tr>\n",
              "    <tr>\n",
              "      <th>85091</th>\n",
              "      <td>5</td>\n",
              "      <td>허리받쳐주는건 좋은데 방석이 미끌어져서 뷸편하네용 ㅠ</td>\n",
              "      <td>1</td>\n",
              "    </tr>\n",
              "    <tr>\n",
              "      <th>61522</th>\n",
              "      <td>5</td>\n",
              "      <td>밥을 해도 압력이 안된 밥을 먹었는데 새 패킹으로 갈아끼우니 짱짱하네여내일부터는 밥...</td>\n",
              "      <td>1</td>\n",
              "    </tr>\n",
              "  </tbody>\n",
              "</table>\n",
              "</div>"
            ],
            "text/plain": [
              "        ratings                                            reviews  label\n",
              "126682        5                                   조립하기힘들었어요 나사가짧아서      1\n",
              "64852         2      ㅜㅜ 제가 인데 ㅜㅜ 진짜 너무너무커요 빨으니까 더 커졌어요ㅜ 잠옷으로 입으려구요      0\n",
              "139941        1                                      만족하는데 배송이 개느림      0\n",
              "85091         5                      허리받쳐주는건 좋은데 방석이 미끌어져서 뷸편하네용 ㅠ      1\n",
              "61522         5  밥을 해도 압력이 안된 밥을 먹었는데 새 패킹으로 갈아끼우니 짱짱하네여내일부터는 밥...      1"
            ]
          },
          "metadata": {
            "tags": []
          },
          "execution_count": 13
        }
      ]
    },
    {
      "cell_type": "markdown",
      "metadata": {
        "id": "csUvVTEnAErD"
      },
      "source": [
        "#### 토큰화 - Okt 사용"
      ]
    },
    {
      "cell_type": "code",
      "metadata": {
        "id": "P5ITG4SVAGZK"
      },
      "source": [
        "from konlpy.tag import Okt\n",
        "okt = Okt()"
      ],
      "execution_count": 14,
      "outputs": []
    },
    {
      "cell_type": "code",
      "metadata": {
        "id": "T0-mdBaDAZKb"
      },
      "source": [
        "stopwords = ['요', '도', '는', '다', '의', '가', '이', '은', '한', '에', '하', '고', '을', '를', '인', '듯', '과', '와', '네', '들', '듯', '지', '임', '게']"
      ],
      "execution_count": 15,
      "outputs": []
    },
    {
      "cell_type": "code",
      "metadata": {
        "id": "7CUMWQzxAdWn"
      },
      "source": [
        "train['tokenized'] = train['reviews'].apply(okt.morphs)\n",
        "train['tokenized'] = train['tokenized'].apply(lambda x: [item for item in x if item not in stopwords])"
      ],
      "execution_count": 16,
      "outputs": []
    },
    {
      "cell_type": "code",
      "metadata": {
        "id": "5BEiUMjWAhzP"
      },
      "source": [
        "val['tokenized'] = val['reviews'].apply(okt.morphs)\n",
        "val['tokenized'] = val['tokenized'].apply(lambda x: [item for item in x if item not in stopwords])"
      ],
      "execution_count": 17,
      "outputs": []
    },
    {
      "cell_type": "code",
      "metadata": {
        "colab": {
          "base_uri": "https://localhost:8080/",
          "height": 204
        },
        "id": "cbazAYKTCLay",
        "outputId": "3f26cc35-737b-4709-d595-847f387c5434"
      },
      "source": [
        "train.head()"
      ],
      "execution_count": 18,
      "outputs": [
        {
          "output_type": "execute_result",
          "data": {
            "text/html": [
              "<div>\n",
              "<style scoped>\n",
              "    .dataframe tbody tr th:only-of-type {\n",
              "        vertical-align: middle;\n",
              "    }\n",
              "\n",
              "    .dataframe tbody tr th {\n",
              "        vertical-align: top;\n",
              "    }\n",
              "\n",
              "    .dataframe thead th {\n",
              "        text-align: right;\n",
              "    }\n",
              "</style>\n",
              "<table border=\"1\" class=\"dataframe\">\n",
              "  <thead>\n",
              "    <tr style=\"text-align: right;\">\n",
              "      <th></th>\n",
              "      <th>ratings</th>\n",
              "      <th>reviews</th>\n",
              "      <th>label</th>\n",
              "      <th>tokenized</th>\n",
              "    </tr>\n",
              "  </thead>\n",
              "  <tbody>\n",
              "    <tr>\n",
              "      <th>6173</th>\n",
              "      <td>5</td>\n",
              "      <td>머리끝이 많이 갈라져서 구매했습니다 이미 갈라진 건 어쩔 수 없지만 뭔가 모발이 더...</td>\n",
              "      <td>1</td>\n",
              "      <td>[머리, 끝, 많이, 갈라져서, 구매, 했습니다, 이미, 갈라진, 건, 어쩔, 수,...</td>\n",
              "    </tr>\n",
              "    <tr>\n",
              "      <th>62572</th>\n",
              "      <td>4</td>\n",
              "      <td>가방사이즈 딱 적절해서 좋고 탄탄한 느낌이라 좋네요 다만 새것 냄새가 일째 빠지지 ...</td>\n",
              "      <td>1</td>\n",
              "      <td>[가방, 사이즈, 딱, 적절해서, 좋고, 탄탄한, 느낌, 이라, 좋네요, 다만, 새...</td>\n",
              "    </tr>\n",
              "    <tr>\n",
              "      <th>102317</th>\n",
              "      <td>2</td>\n",
              "      <td>생각보다 짧아요 ㅠ</td>\n",
              "      <td>0</td>\n",
              "      <td>[생각, 보다, 짧아요, ㅠ]</td>\n",
              "    </tr>\n",
              "    <tr>\n",
              "      <th>122006</th>\n",
              "      <td>2</td>\n",
              "      <td>별로따뜻하지도않고벨브도돌리다밑에캡이빠져버리네여ㅡㅡ그래서본드로붙였는데노즐만새로사야할듯...</td>\n",
              "      <td>0</td>\n",
              "      <td>[별로, 따뜻하지도, 않고, 벨브, 돌리다, 밑, 캡, 빠져, 버리네, 여, ㅡㅡ,...</td>\n",
              "    </tr>\n",
              "    <tr>\n",
              "      <th>111083</th>\n",
              "      <td>1</td>\n",
              "      <td>마스크는소형인데끈이대형이네요ㅎ 그것도 쉽게 끊어져요ㅜ</td>\n",
              "      <td>0</td>\n",
              "      <td>[마스크, 소형, 인데, 끈, 이대형, 이네, ㅎ, 그것, 쉽게, 끊어져요, ㅜ]</td>\n",
              "    </tr>\n",
              "  </tbody>\n",
              "</table>\n",
              "</div>"
            ],
            "text/plain": [
              "        ratings  ...                                          tokenized\n",
              "6173          5  ...  [머리, 끝, 많이, 갈라져서, 구매, 했습니다, 이미, 갈라진, 건, 어쩔, 수,...\n",
              "62572         4  ...  [가방, 사이즈, 딱, 적절해서, 좋고, 탄탄한, 느낌, 이라, 좋네요, 다만, 새...\n",
              "102317        2  ...                                   [생각, 보다, 짧아요, ㅠ]\n",
              "122006        2  ...  [별로, 따뜻하지도, 않고, 벨브, 돌리다, 밑, 캡, 빠져, 버리네, 여, ㅡㅡ,...\n",
              "111083        1  ...      [마스크, 소형, 인데, 끈, 이대형, 이네, ㅎ, 그것, 쉽게, 끊어져요, ㅜ]\n",
              "\n",
              "[5 rows x 4 columns]"
            ]
          },
          "metadata": {
            "tags": []
          },
          "execution_count": 18
        }
      ]
    },
    {
      "cell_type": "markdown",
      "metadata": {
        "id": "cXNL7TOkOJUm"
      },
      "source": [
        "#### 데이터에 정수 인코딩"
      ]
    },
    {
      "cell_type": "code",
      "metadata": {
        "id": "o0ua8aR8OsO2"
      },
      "source": [
        "X_train = train['tokenized']\n",
        "y_train = train['label']\n",
        "X_val= val['tokenized']\n",
        "y_val = val['label']"
      ],
      "execution_count": 19,
      "outputs": []
    },
    {
      "cell_type": "code",
      "metadata": {
        "id": "QaE2Cq0aNgD2"
      },
      "source": [
        "tokenizer = Tokenizer()\n",
        "tokenizer.fit_on_texts(X_train)"
      ],
      "execution_count": 20,
      "outputs": []
    },
    {
      "cell_type": "code",
      "metadata": {
        "colab": {
          "base_uri": "https://localhost:8080/"
        },
        "id": "Z58AotVHP8iL",
        "outputId": "8b4e1fdc-5b70-4952-f4d6-24d6ada40803"
      },
      "source": [
        "threshold = 2\n",
        "total_cnt = len(tokenizer.word_index) \n",
        "rare_cnt = 0 \n",
        "total_freq = 0 \n",
        "rare_freq = 0 \n",
        "\n",
        "for key, value in tokenizer.word_counts.items():\n",
        "    total_freq = total_freq + value\n",
        "\n",
        "    if(value < threshold):\n",
        "        rare_cnt = rare_cnt + 1\n",
        "        rare_freq = rare_freq + value\n",
        "\n",
        "print('단어 집합(vocabulary)의 크기 :',total_cnt)\n",
        "print('등장 빈도가 %s번 이하인 희귀 단어의 수: %s'%(threshold - 1, rare_cnt))\n",
        "print(\"단어 집합에서 희귀 단어의 비율:\", (rare_cnt / total_cnt)*100)\n",
        "print(\"전체 등장 빈도에서 희귀 단어 등장 빈도 비율:\", (rare_freq / total_freq)*100)"
      ],
      "execution_count": 21,
      "outputs": [
        {
          "output_type": "stream",
          "text": [
            "단어 집합(vocabulary)의 크기 : 97950\n",
            "등장 빈도가 1번 이하인 희귀 단어의 수: 54340\n",
            "단어 집합에서 희귀 단어의 비율: 55.47728432873915\n",
            "전체 등장 빈도에서 희귀 단어 등장 빈도 비율: 2.757317496432841\n"
          ],
          "name": "stdout"
        }
      ]
    },
    {
      "cell_type": "code",
      "metadata": {
        "colab": {
          "base_uri": "https://localhost:8080/"
        },
        "id": "jdU32TozQU6t",
        "outputId": "7587ea6d-9eec-4cd6-a22d-45ede31e0a9c"
      },
      "source": [
        "vocab_size = total_cnt - rare_cnt + 2\n",
        "print('단어 집합의 크기 :',vocab_size)"
      ],
      "execution_count": 22,
      "outputs": [
        {
          "output_type": "stream",
          "text": [
            "단어 집합의 크기 : 43612\n"
          ],
          "name": "stdout"
        }
      ]
    },
    {
      "cell_type": "code",
      "metadata": {
        "id": "XEVQd-f0Plox"
      },
      "source": [
        "tokenizer = Tokenizer(vocab_size, oov_token = 'OOV') \n",
        "tokenizer.fit_on_texts(X_train)\n",
        "X_train = tokenizer.texts_to_sequences(X_train)\n",
        "X_val= tokenizer.texts_to_sequences(X_val)"
      ],
      "execution_count": 23,
      "outputs": []
    },
    {
      "cell_type": "code",
      "metadata": {
        "colab": {
          "base_uri": "https://localhost:8080/",
          "height": 317
        },
        "id": "R3z5dn4nQbEl",
        "outputId": "318f6018-7d5e-42a0-ee6d-9d383f89ffc5"
      },
      "source": [
        "print('리뷰의 최대 길이 :',max(len(l) for l in X_train))\n",
        "print('리뷰의 평균 길이 :',sum(map(len, X_train))/len(X_train))\n",
        "plt.hist([len(s) for s in X_train], bins=50)\n",
        "plt.xlabel('length of samples')\n",
        "plt.ylabel('number of samples')\n",
        "plt.show()"
      ],
      "execution_count": 24,
      "outputs": [
        {
          "output_type": "stream",
          "text": [
            "리뷰의 최대 길이 : 59\n",
            "리뷰의 평균 길이 : 12.317225\n"
          ],
          "name": "stdout"
        },
        {
          "output_type": "display_data",
          "data": {
            "image/png": "[encoded data removed]",
            "text/plain": [
              "<Figure size 432x288 with 1 Axes>"
            ]
          },
          "metadata": {
            "tags": [],
            "image/png": {
              "width": 400,
              "height": 264
            },
            "needs_background": "light"
          }
        }
      ]
    },
    {
      "cell_type": "code",
      "metadata": {
        "id": "_2od_VSKQgaa"
      },
      "source": [
        "max_len = 80 #Padding 80으로\n",
        "X_train = pad_sequences(X_train, maxlen = max_len)\n",
        "X_val = pad_sequences(X_val, maxlen = max_len)\n"
      ],
      "execution_count": 25,
      "outputs": []
    },
    {
      "cell_type": "markdown",
      "metadata": {
        "id": "eKWDwMBg3WBH"
      },
      "source": [
        "#### Random Forest Model "
      ]
    },
    {
      "cell_type": "code",
      "metadata": {
        "id": "N875PoRD3YoO"
      },
      "source": [
        "import numpy as np\n",
        "import scipy.stats as stats\n",
        "from sklearn.model_selection import RandomizedSearchCV\n",
        "from sklearn.model_selection import GridSearchCV\n",
        "from sklearn.ensemble import RandomForestClassifier\n",
        "from sklearn.pipeline import Pipeline\n",
        "from sklearn.metrics import accuracy_score\n",
        "from sklearn.metrics import classification_report"
      ],
      "execution_count": 26,
      "outputs": []
    },
    {
      "cell_type": "code",
      "metadata": {
        "id": "nGp-Em3J3kxX"
      },
      "source": [
        "model = RandomForestClassifier(n_estimators=500\n",
        "                             , random_state=11)"
      ],
      "execution_count": 27,
      "outputs": []
    },
    {
      "cell_type": "code",
      "metadata": {
        "colab": {
          "base_uri": "https://localhost:8080/"
        },
        "id": "rktTwo5F3syK",
        "outputId": "d3879d16-ad95-4dbc-dc5f-ccf130ee2573"
      },
      "source": [
        "model.fit(X_train, y_train)"
      ],
      "execution_count": 28,
      "outputs": [
        {
          "output_type": "execute_result",
          "data": {
            "text/plain": [
              "RandomForestClassifier(bootstrap=True, ccp_alpha=0.0, class_weight=None,\n",
              "                       criterion='gini', max_depth=None, max_features='auto',\n",
              "                       max_leaf_nodes=None, max_samples=None,\n",
              "                       min_impurity_decrease=0.0, min_impurity_split=None,\n",
              "                       min_samples_leaf=1, min_samples_split=2,\n",
              "                       min_weight_fraction_leaf=0.0, n_estimators=500,\n",
              "                       n_jobs=None, oob_score=False, random_state=11, verbose=0,\n",
              "                       warm_start=False)"
            ]
          },
          "metadata": {
            "tags": []
          },
          "execution_count": 28
        }
      ]
    },
    {
      "cell_type": "markdown",
      "metadata": {
        "id": "uVwm8-AE4Ho2"
      },
      "source": [
        "#### Accuracy score"
      ]
    },
    {
      "cell_type": "code",
      "metadata": {
        "colab": {
          "base_uri": "https://localhost:8080/"
        },
        "id": "tYwACiBZ4GwZ",
        "outputId": "c5e6f2fd-a836-42ee-8047-a9d05475c755"
      },
      "source": [
        "y_pred = model.predict(X_val)\n",
        "accuracy_score(y_val, y_pred)"
      ],
      "execution_count": 34,
      "outputs": [
        {
          "output_type": "execute_result",
          "data": {
            "text/plain": [
              "0.697875"
            ]
          },
          "metadata": {
            "tags": []
          },
          "execution_count": 34
        }
      ]
    },
    {
      "cell_type": "code",
      "metadata": {
        "colab": {
          "base_uri": "https://localhost:8080/"
        },
        "id": "l_7IQ23-4Qzo",
        "outputId": "7da8b961-06e4-4dc4-b7ef-84aad00e0fc9"
      },
      "source": [
        "print(classification_report(y_val, y_pred))"
      ],
      "execution_count": 35,
      "outputs": [
        {
          "output_type": "stream",
          "text": [
            "              precision    recall  f1-score   support\n",
            "\n",
            "           0       0.68      0.75      0.71     19880\n",
            "           1       0.72      0.65      0.68     20120\n",
            "\n",
            "    accuracy                           0.70     40000\n",
            "   macro avg       0.70      0.70      0.70     40000\n",
            "weighted avg       0.70      0.70      0.70     40000\n",
            "\n"
          ],
          "name": "stdout"
        }
      ]
    },
    {
      "cell_type": "markdown",
      "metadata": {
        "id": "XuK9B2EI-LM8"
      },
      "source": [
        "#### Predict"
      ]
    },
    {
      "cell_type": "code",
      "metadata": {
        "id": "xL4c_6qt-NdL"
      },
      "source": [
        "def sentiment_predict_rf(sentence):\n",
        "  sentence = okt.morphs(sentence) # 토큰화\n",
        "  sentence = [word for word in sentence if not word in stopwords] # 불용어 제거\n",
        "  encoded = tokenizer.texts_to_sequences([sentence]) # 정수 인코딩\n",
        "  pad_new = pad_sequences(encoded, maxlen = max_len) # 패딩\n",
        "  score = float(model.predict(pad_new)) # 예측\n",
        "  if(score > 0.5):\n",
        "    print(\"{:.2f}% 확률로 긍정 리뷰입니다.\".format(score * 100))\n",
        "  else:\n",
        "    print(\"{:.2f}% 확률로 부정 리뷰입니다.\".format((1 - score) * 100))"
      ],
      "execution_count": 39,
      "outputs": []
    },
    {
      "cell_type": "code",
      "metadata": {
        "colab": {
          "base_uri": "https://localhost:8080/"
        },
        "id": "fogTa4cY-RSj",
        "outputId": "59035160-ec94-4369-8a2a-b9af850cc801"
      },
      "source": [
        "sentiment_predict_rf('좋았습니다 주문을 미루고 미루다보니 시간이 급해서 당일제작 옵션 선택해서 진행했습니다.')"
      ],
      "execution_count": 40,
      "outputs": [
        {
          "output_type": "stream",
          "text": [
            "100.00% 확률로 부정 리뷰입니다.\n"
          ],
          "name": "stdout"
        }
      ]
    },
    {
      "cell_type": "code",
      "metadata": {
        "colab": {
          "base_uri": "https://localhost:8080/"
        },
        "id": "VAHFy7s8-VkS",
        "outputId": "91302b66-cc57-473b-97c4-a46a6f9f7043"
      },
      "source": [
        "sentiment_predict_rf('만족하는데 배송이 개느림')"
      ],
      "execution_count": 41,
      "outputs": [
        {
          "output_type": "stream",
          "text": [
            "100.00% 확률로 긍정 리뷰입니다.\n"
          ],
          "name": "stdout"
        }
      ]
    },
    {
      "cell_type": "markdown",
      "metadata": {
        "id": "FaUWKlBd-u73"
      },
      "source": [
        "random forest 모델을 이용했을 때 정확도는 높지만, 감성 분석이 제대로 되지 않는 것을 알 수 있다.. 왜이러징 그러니까 앞으로도 GRU를 이용하자!^^"
      ]
    }
  ]
}