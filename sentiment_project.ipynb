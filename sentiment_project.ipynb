{
  "nbformat": 4,
  "nbformat_minor": 0,
  "metadata": {
    "colab": {
      "name": "sentiment project.ipynb",
      "provenance": [],
      "authorship_tag": "ABX9TyP4MVxEG5+uI4qraztnL9Uf",
      "include_colab_link": true
    },
    "kernelspec": {
      "name": "python3",
      "display_name": "Python 3"
    },
    "language_info": {
      "name": "python"
    }
  },
  "cells": [
    {
      "cell_type": "markdown",
      "metadata": {
        "id": "view-in-github",
        "colab_type": "text"
      },
      "source": [
        "<a href=\"https://colab.research.google.com/github/threegenie/sentiment_project/blob/main/sentiment_project.ipynb\" target=\"_parent\"><img src=\"https://colab.research.google.com/assets/colab-badge.svg\" alt=\"Open In Colab\"/></a>"
      ]
    },
    {
      "cell_type": "code",
      "metadata": {
        "id": "HDMk6KAaUnA4"
      },
      "source": [
        "!git clone https://github.com/SOMJANG/Mecab-ko-for-Google-Colab.git\n",
        "%cd Mecab-ko-for-Google-Colab\n",
        "!bash install_mecab-ko_on_colab190912.sh"
      ],
      "execution_count": null,
      "outputs": []
    },
    {
      "cell_type": "code",
      "metadata": {
        "id": "7sgfTS43s6Yo"
      },
      "source": [
        "!sudo apt-get install -y fonts-nanum\n",
        "!sudo fc-cache -fv\n",
        "!rm ~/.cache/matplotlib -rf"
      ],
      "execution_count": null,
      "outputs": []
    },
    {
      "cell_type": "code",
      "metadata": {
        "id": "vPNxmDoYt2IQ"
      },
      "source": [
        "import matplotlib as mpl\n",
        "import matplotlib.pyplot as plt\n",
        "%config InlineBackend.figure_format = 'retina'\n",
        " \n",
        "!apt -qq -y install fonts-nanum\n",
        " \n",
        "import matplotlib.font_manager as fm\n",
        "fontpath = '/usr/share/fonts/truetype/nanum/NanumBarunGothic.ttf'\n",
        "font = fm.FontProperties(fname=fontpath, size=9)\n",
        "plt.rc('font', family='NanumBarunGothic') \n",
        "#mpl.font_manager._rebuild()"
      ],
      "execution_count": null,
      "outputs": []
    },
    {
      "cell_type": "code",
      "metadata": {
        "id": "K1UjeNc_UygR"
      },
      "source": [
        "import pandas as pd\n",
        "import numpy as np\n",
        "import matplotlib.pyplot as plt\n",
        "import seaborn as sns\n",
        "import urllib.request\n",
        "from collections import Counter\n",
        "from konlpy.tag import Mecab\n",
        "from sklearn.model_selection import train_test_split\n",
        "from tensorflow.keras.preprocessing.text import Tokenizer\n",
        "from tensorflow.keras.preprocessing.sequence import pad_sequences"
      ],
      "execution_count": 8,
      "outputs": []
    },
    {
      "cell_type": "code",
      "metadata": {
        "id": "59Y4Pm6MmvVW"
      },
      "source": [
        "# 오류(SettingWithCopyError 발생)\n",
        "pd.set_option('mode.chained_assignment', 'raise') # SettingWithCopyError\n",
        "\n",
        "# 경고(SettingWithCopyWarning 발생, 기본 값입니다)\n",
        "pd.set_option('mode.chained_assignment', 'warn') # SettingWithCopyWarning\n",
        "\n",
        "# 무시\n",
        "pd.set_option('mode.chained_assignment',  None) # <==== 경고를 끈다"
      ],
      "execution_count": 9,
      "outputs": []
    },
    {
      "cell_type": "code",
      "metadata": {
        "colab": {
          "base_uri": "https://localhost:8080/",
          "height": 419
        },
        "id": "h7RW-qvafpXH",
        "outputId": "cf5d5e05-d238-449d-e6f4-f819ae9b5c5b"
      },
      "source": [
        "df = pd.read_table('/review.txt', names=['ratings', 'reviews'])\n",
        "df"
      ],
      "execution_count": 10,
      "outputs": [
        {
          "output_type": "execute_result",
          "data": {
            "text/html": [
              "<div>\n",
              "<style scoped>\n",
              "    .dataframe tbody tr th:only-of-type {\n",
              "        vertical-align: middle;\n",
              "    }\n",
              "\n",
              "    .dataframe tbody tr th {\n",
              "        vertical-align: top;\n",
              "    }\n",
              "\n",
              "    .dataframe thead th {\n",
              "        text-align: right;\n",
              "    }\n",
              "</style>\n",
              "<table border=\"1\" class=\"dataframe\">\n",
              "  <thead>\n",
              "    <tr style=\"text-align: right;\">\n",
              "      <th></th>\n",
              "      <th>ratings</th>\n",
              "      <th>reviews</th>\n",
              "    </tr>\n",
              "  </thead>\n",
              "  <tbody>\n",
              "    <tr>\n",
              "      <th>0</th>\n",
              "      <td>5</td>\n",
              "      <td>배공빠르고 굿</td>\n",
              "    </tr>\n",
              "    <tr>\n",
              "      <th>1</th>\n",
              "      <td>2</td>\n",
              "      <td>택배가 엉망이네용 저희집 밑에층에 말도없이 놔두고가고</td>\n",
              "    </tr>\n",
              "    <tr>\n",
              "      <th>2</th>\n",
              "      <td>5</td>\n",
              "      <td>아주좋아요 바지 정말 좋아서2개 더 구매했어요 이가격에 대박입니다. 바느질이 조금 ...</td>\n",
              "    </tr>\n",
              "    <tr>\n",
              "      <th>3</th>\n",
              "      <td>2</td>\n",
              "      <td>선물용으로 빨리 받아서 전달했어야 하는 상품이었는데 머그컵만 와서 당황했습니다. 전...</td>\n",
              "    </tr>\n",
              "    <tr>\n",
              "      <th>4</th>\n",
              "      <td>5</td>\n",
              "      <td>민트색상 예뻐요. 옆 손잡이는 거는 용도로도 사용되네요 ㅎㅎ</td>\n",
              "    </tr>\n",
              "    <tr>\n",
              "      <th>...</th>\n",
              "      <td>...</td>\n",
              "      <td>...</td>\n",
              "    </tr>\n",
              "    <tr>\n",
              "      <th>199995</th>\n",
              "      <td>2</td>\n",
              "      <td>장마라그런가!!! 달지않아요</td>\n",
              "    </tr>\n",
              "    <tr>\n",
              "      <th>199996</th>\n",
              "      <td>5</td>\n",
              "      <td>다이슨 케이스 구매했어요 다이슨 슈퍼소닉 드라이기 케이스 구매했어요가격 괜찮고 배송...</td>\n",
              "    </tr>\n",
              "    <tr>\n",
              "      <th>199997</th>\n",
              "      <td>5</td>\n",
              "      <td>로드샾에서 사는것보다 세배 저렴하네요 ㅜㅜ 자주이용할께요</td>\n",
              "    </tr>\n",
              "    <tr>\n",
              "      <th>199998</th>\n",
              "      <td>5</td>\n",
              "      <td>넘이쁘고 쎄련되보이네요~</td>\n",
              "    </tr>\n",
              "    <tr>\n",
              "      <th>199999</th>\n",
              "      <td>5</td>\n",
              "      <td>아직 사용해보지도않았고 다른 제품을 써본적이없어서 잘 모르겠지만 ㅎㅎ 배송은 빨랐습니다</td>\n",
              "    </tr>\n",
              "  </tbody>\n",
              "</table>\n",
              "<p>200000 rows × 2 columns</p>\n",
              "</div>"
            ],
            "text/plain": [
              "        ratings                                            reviews\n",
              "0             5                                            배공빠르고 굿\n",
              "1             2                      택배가 엉망이네용 저희집 밑에층에 말도없이 놔두고가고\n",
              "2             5  아주좋아요 바지 정말 좋아서2개 더 구매했어요 이가격에 대박입니다. 바느질이 조금 ...\n",
              "3             2  선물용으로 빨리 받아서 전달했어야 하는 상품이었는데 머그컵만 와서 당황했습니다. 전...\n",
              "4             5                  민트색상 예뻐요. 옆 손잡이는 거는 용도로도 사용되네요 ㅎㅎ\n",
              "...         ...                                                ...\n",
              "199995        2                                    장마라그런가!!! 달지않아요\n",
              "199996        5  다이슨 케이스 구매했어요 다이슨 슈퍼소닉 드라이기 케이스 구매했어요가격 괜찮고 배송...\n",
              "199997        5                    로드샾에서 사는것보다 세배 저렴하네요 ㅜㅜ 자주이용할께요\n",
              "199998        5                                      넘이쁘고 쎄련되보이네요~\n",
              "199999        5   아직 사용해보지도않았고 다른 제품을 써본적이없어서 잘 모르겠지만 ㅎㅎ 배송은 빨랐습니다\n",
              "\n",
              "[200000 rows x 2 columns]"
            ]
          },
          "metadata": {
            "tags": []
          },
          "execution_count": 10
        }
      ]
    },
    {
      "cell_type": "markdown",
      "metadata": {
        "id": "SHuhRb_JnKPL"
      },
      "source": [
        "#### 중복 데이터가 있다면 제거"
      ]
    },
    {
      "cell_type": "code",
      "metadata": {
        "colab": {
          "base_uri": "https://localhost:8080/"
        },
        "id": "3FRHGKE-kW8i",
        "outputId": "a75e95b9-d1f3-4030-e5ef-dabc9259067c"
      },
      "source": [
        "df.drop_duplicates('reviews',keep='first')\n",
        "df.shape"
      ],
      "execution_count": 11,
      "outputs": [
        {
          "output_type": "execute_result",
          "data": {
            "text/plain": [
              "(200000, 2)"
            ]
          },
          "metadata": {
            "tags": []
          },
          "execution_count": 11
        }
      ]
    },
    {
      "cell_type": "markdown",
      "metadata": {
        "id": "S9UQ2UNjiNlW"
      },
      "source": [
        "#### 훈련, 테스트셋 분리"
      ]
    },
    {
      "cell_type": "code",
      "metadata": {
        "colab": {
          "base_uri": "https://localhost:8080/"
        },
        "id": "dwjV7glBiQYv",
        "outputId": "38da370c-08b9-4ba9-d107-aa75d3887f88"
      },
      "source": [
        "train, test = train_test_split(df, test_size = 0.2, random_state = 11)\n",
        "train.shape, test.shape"
      ],
      "execution_count": 12,
      "outputs": [
        {
          "output_type": "execute_result",
          "data": {
            "text/plain": [
              "((160000, 2), (40000, 2))"
            ]
          },
          "metadata": {
            "tags": []
          },
          "execution_count": 12
        }
      ]
    },
    {
      "cell_type": "markdown",
      "metadata": {
        "id": "OdPlO-ZKh8Ie"
      },
      "source": [
        "#### 별점으로 라벨링 : 별점이 4을 넘으면 긍정 리뷰, 이하는 부정 리뷰로 분류"
      ]
    },
    {
      "cell_type": "code",
      "metadata": {
        "colab": {
          "base_uri": "https://localhost:8080/",
          "height": 419
        },
        "id": "cAQOvtzugkRG",
        "outputId": "052093f9-02ee-491c-fe4d-c15f0b68a8d7"
      },
      "source": [
        "def star_evaluate(rating):\n",
        "  if rating >=4:\n",
        "    return 1\n",
        "  else:\n",
        "    return 0\n",
        "  \n",
        "train['label'] = train['ratings'].apply(star_evaluate)\n",
        "\n",
        "train"
      ],
      "execution_count": 13,
      "outputs": [
        {
          "output_type": "execute_result",
          "data": {
            "text/html": [
              "<div>\n",
              "<style scoped>\n",
              "    .dataframe tbody tr th:only-of-type {\n",
              "        vertical-align: middle;\n",
              "    }\n",
              "\n",
              "    .dataframe tbody tr th {\n",
              "        vertical-align: top;\n",
              "    }\n",
              "\n",
              "    .dataframe thead th {\n",
              "        text-align: right;\n",
              "    }\n",
              "</style>\n",
              "<table border=\"1\" class=\"dataframe\">\n",
              "  <thead>\n",
              "    <tr style=\"text-align: right;\">\n",
              "      <th></th>\n",
              "      <th>ratings</th>\n",
              "      <th>reviews</th>\n",
              "      <th>label</th>\n",
              "    </tr>\n",
              "  </thead>\n",
              "  <tbody>\n",
              "    <tr>\n",
              "      <th>6173</th>\n",
              "      <td>5</td>\n",
              "      <td>머리끝이 많이 갈라져서 구매했습니다. 이미 갈라진 건 어쩔 수 없지만 뭔가 모발이 ...</td>\n",
              "      <td>1</td>\n",
              "    </tr>\n",
              "    <tr>\n",
              "      <th>62572</th>\n",
              "      <td>4</td>\n",
              "      <td>가방사이즈 딱 적절해서 좋고, 탄탄한 느낌이라 좋네요. 다만 새것 냄새가 2일째 빠...</td>\n",
              "      <td>1</td>\n",
              "    </tr>\n",
              "    <tr>\n",
              "      <th>102317</th>\n",
              "      <td>2</td>\n",
              "      <td>생각보다 짧아요 ㅠ</td>\n",
              "      <td>0</td>\n",
              "    </tr>\n",
              "    <tr>\n",
              "      <th>122006</th>\n",
              "      <td>2</td>\n",
              "      <td>별로따뜻하지도않고..벨브도돌리다밑에캡이빠져버리네여..ㅡㅡ그래서본드로붙였는데..노즐만...</td>\n",
              "      <td>0</td>\n",
              "    </tr>\n",
              "    <tr>\n",
              "      <th>111083</th>\n",
              "      <td>1</td>\n",
              "      <td>마스크는소형인데끈이대형이네요ㅎ 그것도 쉽게 끊어져요ㅜ</td>\n",
              "      <td>0</td>\n",
              "    </tr>\n",
              "    <tr>\n",
              "      <th>...</th>\n",
              "      <td>...</td>\n",
              "      <td>...</td>\n",
              "      <td>...</td>\n",
              "    </tr>\n",
              "    <tr>\n",
              "      <th>102327</th>\n",
              "      <td>1</td>\n",
              "      <td>완전 잘깨져요 이건 뭐 잠깐 바닥에 스치기만해도 깨져있어요</td>\n",
              "      <td>0</td>\n",
              "    </tr>\n",
              "    <tr>\n",
              "      <th>97617</th>\n",
              "      <td>2</td>\n",
              "      <td>바코드안떳어요</td>\n",
              "      <td>0</td>\n",
              "    </tr>\n",
              "    <tr>\n",
              "      <th>21584</th>\n",
              "      <td>2</td>\n",
              "      <td>네조아요. 필요해서 샀어요</td>\n",
              "      <td>0</td>\n",
              "    </tr>\n",
              "    <tr>\n",
              "      <th>36543</th>\n",
              "      <td>5</td>\n",
              "      <td>발열 엄청 오래 지속되고 냄새도 없고 만족합니다</td>\n",
              "      <td>1</td>\n",
              "    </tr>\n",
              "    <tr>\n",
              "      <th>141209</th>\n",
              "      <td>1</td>\n",
              "      <td>겉은 너무 달고 맛이 약간 부조화스럽네요</td>\n",
              "      <td>0</td>\n",
              "    </tr>\n",
              "  </tbody>\n",
              "</table>\n",
              "<p>160000 rows × 3 columns</p>\n",
              "</div>"
            ],
            "text/plain": [
              "        ratings                                            reviews  label\n",
              "6173          5  머리끝이 많이 갈라져서 구매했습니다. 이미 갈라진 건 어쩔 수 없지만 뭔가 모발이 ...      1\n",
              "62572         4  가방사이즈 딱 적절해서 좋고, 탄탄한 느낌이라 좋네요. 다만 새것 냄새가 2일째 빠...      1\n",
              "102317        2                                         생각보다 짧아요 ㅠ      0\n",
              "122006        2  별로따뜻하지도않고..벨브도돌리다밑에캡이빠져버리네여..ㅡㅡ그래서본드로붙였는데..노즐만...      0\n",
              "111083        1                      마스크는소형인데끈이대형이네요ㅎ 그것도 쉽게 끊어져요ㅜ      0\n",
              "...         ...                                                ...    ...\n",
              "102327        1                   완전 잘깨져요 이건 뭐 잠깐 바닥에 스치기만해도 깨져있어요      0\n",
              "97617         2                                            바코드안떳어요      0\n",
              "21584         2                                     네조아요. 필요해서 샀어요      0\n",
              "36543         5                         발열 엄청 오래 지속되고 냄새도 없고 만족합니다      1\n",
              "141209        1                             겉은 너무 달고 맛이 약간 부조화스럽네요      0\n",
              "\n",
              "[160000 rows x 3 columns]"
            ]
          },
          "metadata": {
            "tags": []
          },
          "execution_count": 13
        }
      ]
    },
    {
      "cell_type": "code",
      "metadata": {
        "colab": {
          "base_uri": "https://localhost:8080/"
        },
        "id": "axVnOACzmJ-6",
        "outputId": "7e8e20a7-cb74-4185-d4ac-2905dae1ebc3"
      },
      "source": [
        "train['label'].value_counts()"
      ],
      "execution_count": 14,
      "outputs": [
        {
          "output_type": "execute_result",
          "data": {
            "text/plain": [
              "0    80157\n",
              "1    79843\n",
              "Name: label, dtype: int64"
            ]
          },
          "metadata": {
            "tags": []
          },
          "execution_count": 14
        }
      ]
    },
    {
      "cell_type": "markdown",
      "metadata": {
        "id": "4qe_ms1umWpm"
      },
      "source": [
        "#### 데이터 정제 - 훈련, 테스트셋에 모두 적용 -> 정규표현식 사용하여 한글 제외 모두 제거"
      ]
    },
    {
      "cell_type": "code",
      "metadata": {
        "colab": {
          "base_uri": "https://localhost:8080/",
          "height": 204
        },
        "id": "wwviODNLkERO",
        "outputId": "68d39614-0a48-4071-93d5-0194917b38d6"
      },
      "source": [
        "train['reviews'] = train['reviews'].str.replace(\"[^ㄱ-ㅎㅏ-ㅣ가-힣 ]\",\"\")\n",
        "train['reviews'].replace('', np.nan, inplace=True)\n",
        "train.head()"
      ],
      "execution_count": 15,
      "outputs": [
        {
          "output_type": "execute_result",
          "data": {
            "text/html": [
              "<div>\n",
              "<style scoped>\n",
              "    .dataframe tbody tr th:only-of-type {\n",
              "        vertical-align: middle;\n",
              "    }\n",
              "\n",
              "    .dataframe tbody tr th {\n",
              "        vertical-align: top;\n",
              "    }\n",
              "\n",
              "    .dataframe thead th {\n",
              "        text-align: right;\n",
              "    }\n",
              "</style>\n",
              "<table border=\"1\" class=\"dataframe\">\n",
              "  <thead>\n",
              "    <tr style=\"text-align: right;\">\n",
              "      <th></th>\n",
              "      <th>ratings</th>\n",
              "      <th>reviews</th>\n",
              "      <th>label</th>\n",
              "    </tr>\n",
              "  </thead>\n",
              "  <tbody>\n",
              "    <tr>\n",
              "      <th>6173</th>\n",
              "      <td>5</td>\n",
              "      <td>머리끝이 많이 갈라져서 구매했습니다 이미 갈라진 건 어쩔 수 없지만 뭔가 모발이 더...</td>\n",
              "      <td>1</td>\n",
              "    </tr>\n",
              "    <tr>\n",
              "      <th>62572</th>\n",
              "      <td>4</td>\n",
              "      <td>가방사이즈 딱 적절해서 좋고 탄탄한 느낌이라 좋네요 다만 새것 냄새가 일째 빠지지 ...</td>\n",
              "      <td>1</td>\n",
              "    </tr>\n",
              "    <tr>\n",
              "      <th>102317</th>\n",
              "      <td>2</td>\n",
              "      <td>생각보다 짧아요 ㅠ</td>\n",
              "      <td>0</td>\n",
              "    </tr>\n",
              "    <tr>\n",
              "      <th>122006</th>\n",
              "      <td>2</td>\n",
              "      <td>별로따뜻하지도않고벨브도돌리다밑에캡이빠져버리네여ㅡㅡ그래서본드로붙였는데노즐만새로사야할듯...</td>\n",
              "      <td>0</td>\n",
              "    </tr>\n",
              "    <tr>\n",
              "      <th>111083</th>\n",
              "      <td>1</td>\n",
              "      <td>마스크는소형인데끈이대형이네요ㅎ 그것도 쉽게 끊어져요ㅜ</td>\n",
              "      <td>0</td>\n",
              "    </tr>\n",
              "  </tbody>\n",
              "</table>\n",
              "</div>"
            ],
            "text/plain": [
              "        ratings                                            reviews  label\n",
              "6173          5  머리끝이 많이 갈라져서 구매했습니다 이미 갈라진 건 어쩔 수 없지만 뭔가 모발이 더...      1\n",
              "62572         4  가방사이즈 딱 적절해서 좋고 탄탄한 느낌이라 좋네요 다만 새것 냄새가 일째 빠지지 ...      1\n",
              "102317        2                                         생각보다 짧아요 ㅠ      0\n",
              "122006        2  별로따뜻하지도않고벨브도돌리다밑에캡이빠져버리네여ㅡㅡ그래서본드로붙였는데노즐만새로사야할듯...      0\n",
              "111083        1                      마스크는소형인데끈이대형이네요ㅎ 그것도 쉽게 끊어져요ㅜ      0"
            ]
          },
          "metadata": {
            "tags": []
          },
          "execution_count": 15
        }
      ]
    },
    {
      "cell_type": "code",
      "metadata": {
        "colab": {
          "base_uri": "https://localhost:8080/",
          "height": 204
        },
        "id": "kKHkjDEnmmBx",
        "outputId": "ab5a9e8e-14a1-496d-d4b1-19f58607950a"
      },
      "source": [
        "test['reviews'] = test['reviews'].str.replace(\"[^ㄱ-ㅎㅏ-ㅣ가-힣 ]\",\"\")\n",
        "test['reviews'].replace('', np.nan, inplace=True)\n",
        "test.head()"
      ],
      "execution_count": 16,
      "outputs": [
        {
          "output_type": "execute_result",
          "data": {
            "text/html": [
              "<div>\n",
              "<style scoped>\n",
              "    .dataframe tbody tr th:only-of-type {\n",
              "        vertical-align: middle;\n",
              "    }\n",
              "\n",
              "    .dataframe tbody tr th {\n",
              "        vertical-align: top;\n",
              "    }\n",
              "\n",
              "    .dataframe thead th {\n",
              "        text-align: right;\n",
              "    }\n",
              "</style>\n",
              "<table border=\"1\" class=\"dataframe\">\n",
              "  <thead>\n",
              "    <tr style=\"text-align: right;\">\n",
              "      <th></th>\n",
              "      <th>ratings</th>\n",
              "      <th>reviews</th>\n",
              "    </tr>\n",
              "  </thead>\n",
              "  <tbody>\n",
              "    <tr>\n",
              "      <th>126682</th>\n",
              "      <td>5</td>\n",
              "      <td>조립하기힘들었어요 나사가짧아서</td>\n",
              "    </tr>\n",
              "    <tr>\n",
              "      <th>64852</th>\n",
              "      <td>2</td>\n",
              "      <td>ㅜㅜ 제가 인데 ㅜㅜ 진짜 너무너무커요 빨으니까 더 커졌어요ㅜ 잠옷으로 입으려구요</td>\n",
              "    </tr>\n",
              "    <tr>\n",
              "      <th>139941</th>\n",
              "      <td>1</td>\n",
              "      <td>만족하는데 배송이 개느림</td>\n",
              "    </tr>\n",
              "    <tr>\n",
              "      <th>85091</th>\n",
              "      <td>5</td>\n",
              "      <td>허리받쳐주는건 좋은데 방석이 미끌어져서 뷸편하네용 ㅠ</td>\n",
              "    </tr>\n",
              "    <tr>\n",
              "      <th>61522</th>\n",
              "      <td>5</td>\n",
              "      <td>밥을 해도 압력이 안된 밥을 먹었는데 새 패킹으로 갈아끼우니 짱짱하네여내일부터는 밥...</td>\n",
              "    </tr>\n",
              "  </tbody>\n",
              "</table>\n",
              "</div>"
            ],
            "text/plain": [
              "        ratings                                            reviews\n",
              "126682        5                                   조립하기힘들었어요 나사가짧아서\n",
              "64852         2      ㅜㅜ 제가 인데 ㅜㅜ 진짜 너무너무커요 빨으니까 더 커졌어요ㅜ 잠옷으로 입으려구요\n",
              "139941        1                                      만족하는데 배송이 개느림\n",
              "85091         5                      허리받쳐주는건 좋은데 방석이 미끌어져서 뷸편하네용 ㅠ\n",
              "61522         5  밥을 해도 압력이 안된 밥을 먹었는데 새 패킹으로 갈아끼우니 짱짱하네여내일부터는 밥..."
            ]
          },
          "metadata": {
            "tags": []
          },
          "execution_count": 16
        }
      ]
    },
    {
      "cell_type": "markdown",
      "metadata": {
        "id": "rAx-_FOYnRfZ"
      },
      "source": [
        "#### 토큰화 - Mecab 사용"
      ]
    },
    {
      "cell_type": "code",
      "metadata": {
        "id": "UWvnintUnTWi"
      },
      "source": [
        "mecab = Mecab()"
      ],
      "execution_count": 17,
      "outputs": []
    },
    {
      "cell_type": "code",
      "metadata": {
        "id": "L3B0vB8XnYQR"
      },
      "source": [
        "stopwords = ['도', '는', '다', '의', '가', '이', '은', '한', '에', '하', '고', '을', '를', '인', '듯', '과', '와', '네', '들', '듯', '지', '임', '게']"
      ],
      "execution_count": 18,
      "outputs": []
    },
    {
      "cell_type": "code",
      "metadata": {
        "id": "AfUz_xCBnaLJ"
      },
      "source": [
        "train['tokenized'] = train['reviews'].apply(mecab.morphs)\n",
        "train['tokenized'] = train['tokenized'].apply(lambda x: [item for item in x if item not in stopwords])"
      ],
      "execution_count": 19,
      "outputs": []
    },
    {
      "cell_type": "code",
      "metadata": {
        "id": "rTZwHkrWnh6K"
      },
      "source": [
        "test['tokenized'] = test['reviews'].apply(mecab.morphs)\n",
        "test['tokenized'] = test['tokenized'].apply(lambda x: [item for item in x if item not in stopwords])"
      ],
      "execution_count": 20,
      "outputs": []
    },
    {
      "cell_type": "code",
      "metadata": {
        "colab": {
          "base_uri": "https://localhost:8080/",
          "height": 204
        },
        "id": "2tWyA_5znzdK",
        "outputId": "5a4db3d2-c038-4692-cb63-280662575139"
      },
      "source": [
        "train.head()"
      ],
      "execution_count": 21,
      "outputs": [
        {
          "output_type": "execute_result",
          "data": {
            "text/html": [
              "<div>\n",
              "<style scoped>\n",
              "    .dataframe tbody tr th:only-of-type {\n",
              "        vertical-align: middle;\n",
              "    }\n",
              "\n",
              "    .dataframe tbody tr th {\n",
              "        vertical-align: top;\n",
              "    }\n",
              "\n",
              "    .dataframe thead th {\n",
              "        text-align: right;\n",
              "    }\n",
              "</style>\n",
              "<table border=\"1\" class=\"dataframe\">\n",
              "  <thead>\n",
              "    <tr style=\"text-align: right;\">\n",
              "      <th></th>\n",
              "      <th>ratings</th>\n",
              "      <th>reviews</th>\n",
              "      <th>label</th>\n",
              "      <th>tokenized</th>\n",
              "    </tr>\n",
              "  </thead>\n",
              "  <tbody>\n",
              "    <tr>\n",
              "      <th>6173</th>\n",
              "      <td>5</td>\n",
              "      <td>머리끝이 많이 갈라져서 구매했습니다 이미 갈라진 건 어쩔 수 없지만 뭔가 모발이 더...</td>\n",
              "      <td>1</td>\n",
              "      <td>[머리, 끝, 많이, 갈라져서, 구매, 했, 습니다, 이미, 갈라진, 건, 어쩔, ...</td>\n",
              "    </tr>\n",
              "    <tr>\n",
              "      <th>62572</th>\n",
              "      <td>4</td>\n",
              "      <td>가방사이즈 딱 적절해서 좋고 탄탄한 느낌이라 좋네요 다만 새것 냄새가 일째 빠지지 ...</td>\n",
              "      <td>1</td>\n",
              "      <td>[가방, 사이즈, 딱, 적절, 해서, 좋, 탄탄, 느낌, 라, 좋, 네요, 다만, ...</td>\n",
              "    </tr>\n",
              "    <tr>\n",
              "      <th>102317</th>\n",
              "      <td>2</td>\n",
              "      <td>생각보다 짧아요 ㅠ</td>\n",
              "      <td>0</td>\n",
              "      <td>[생각, 보다, 짧, 아요, ㅠ]</td>\n",
              "    </tr>\n",
              "    <tr>\n",
              "      <th>122006</th>\n",
              "      <td>2</td>\n",
              "      <td>별로따뜻하지도않고벨브도돌리다밑에캡이빠져버리네여ㅡㅡ그래서본드로붙였는데노즐만새로사야할듯...</td>\n",
              "      <td>0</td>\n",
              "      <td>[별로, 따뜻, 않, 벨, 브, 돌리, 밑, 캡, 빠져, 버리, 네여, ㅡㅡ그래서본...</td>\n",
              "    </tr>\n",
              "    <tr>\n",
              "      <th>111083</th>\n",
              "      <td>1</td>\n",
              "      <td>마스크는소형인데끈이대형이네요ㅎ 그것도 쉽게 끊어져요ㅜ</td>\n",
              "      <td>0</td>\n",
              "      <td>[마스크, 소형, 인데, 끈, 이대형, 네요, ㅎ, 그것, 쉽, 끊, 어, 져요, ㅜ]</td>\n",
              "    </tr>\n",
              "  </tbody>\n",
              "</table>\n",
              "</div>"
            ],
            "text/plain": [
              "        ratings  ...                                          tokenized\n",
              "6173          5  ...  [머리, 끝, 많이, 갈라져서, 구매, 했, 습니다, 이미, 갈라진, 건, 어쩔, ...\n",
              "62572         4  ...  [가방, 사이즈, 딱, 적절, 해서, 좋, 탄탄, 느낌, 라, 좋, 네요, 다만, ...\n",
              "102317        2  ...                                 [생각, 보다, 짧, 아요, ㅠ]\n",
              "122006        2  ...  [별로, 따뜻, 않, 벨, 브, 돌리, 밑, 캡, 빠져, 버리, 네여, ㅡㅡ그래서본...\n",
              "111083        1  ...   [마스크, 소형, 인데, 끈, 이대형, 네요, ㅎ, 그것, 쉽, 끊, 어, 져요, ㅜ]\n",
              "\n",
              "[5 rows x 4 columns]"
            ]
          },
          "metadata": {
            "tags": []
          },
          "execution_count": 21
        }
      ]
    },
    {
      "cell_type": "code",
      "metadata": {
        "colab": {
          "base_uri": "https://localhost:8080/",
          "height": 204
        },
        "id": "jSMKHT7yn2rC",
        "outputId": "1eee986e-e62f-470f-8984-b0107ee379e6"
      },
      "source": [
        "test.head()"
      ],
      "execution_count": 22,
      "outputs": [
        {
          "output_type": "execute_result",
          "data": {
            "text/html": [
              "<div>\n",
              "<style scoped>\n",
              "    .dataframe tbody tr th:only-of-type {\n",
              "        vertical-align: middle;\n",
              "    }\n",
              "\n",
              "    .dataframe tbody tr th {\n",
              "        vertical-align: top;\n",
              "    }\n",
              "\n",
              "    .dataframe thead th {\n",
              "        text-align: right;\n",
              "    }\n",
              "</style>\n",
              "<table border=\"1\" class=\"dataframe\">\n",
              "  <thead>\n",
              "    <tr style=\"text-align: right;\">\n",
              "      <th></th>\n",
              "      <th>ratings</th>\n",
              "      <th>reviews</th>\n",
              "      <th>tokenized</th>\n",
              "    </tr>\n",
              "  </thead>\n",
              "  <tbody>\n",
              "    <tr>\n",
              "      <th>126682</th>\n",
              "      <td>5</td>\n",
              "      <td>조립하기힘들었어요 나사가짧아서</td>\n",
              "      <td>[조립, 기, 힘들, 었, 어요, 나사, 짧, 아서]</td>\n",
              "    </tr>\n",
              "    <tr>\n",
              "      <th>64852</th>\n",
              "      <td>2</td>\n",
              "      <td>ㅜㅜ 제가 인데 ㅜㅜ 진짜 너무너무커요 빨으니까 더 커졌어요ㅜ 잠옷으로 입으려구요</td>\n",
              "      <td>[ㅜㅜ, 제, 인데, ㅜㅜ, 진짜, 너무너무, 커요, 빨, 으니까, 더, 커졌, 어...</td>\n",
              "    </tr>\n",
              "    <tr>\n",
              "      <th>139941</th>\n",
              "      <td>1</td>\n",
              "      <td>만족하는데 배송이 개느림</td>\n",
              "      <td>[만족, 데, 배송, 개, 느림]</td>\n",
              "    </tr>\n",
              "    <tr>\n",
              "      <th>85091</th>\n",
              "      <td>5</td>\n",
              "      <td>허리받쳐주는건 좋은데 방석이 미끌어져서 뷸편하네용 ㅠ</td>\n",
              "      <td>[허리, 받쳐, 주, 건, 좋, 은데, 방석, 미끌, 어, 져서, 뷸편하네용, ㅠ]</td>\n",
              "    </tr>\n",
              "    <tr>\n",
              "      <th>61522</th>\n",
              "      <td>5</td>\n",
              "      <td>밥을 해도 압력이 안된 밥을 먹었는데 새 패킹으로 갈아끼우니 짱짱하네여내일부터는 밥...</td>\n",
              "      <td>[밥, 해도, 압력, 안, 된, 밥, 먹, 었, 는데, 새, 패킹, 으로, 갈아끼우...</td>\n",
              "    </tr>\n",
              "  </tbody>\n",
              "</table>\n",
              "</div>"
            ],
            "text/plain": [
              "        ratings  ...                                          tokenized\n",
              "126682        5  ...                      [조립, 기, 힘들, 었, 어요, 나사, 짧, 아서]\n",
              "64852         2  ...  [ㅜㅜ, 제, 인데, ㅜㅜ, 진짜, 너무너무, 커요, 빨, 으니까, 더, 커졌, 어...\n",
              "139941        1  ...                                 [만족, 데, 배송, 개, 느림]\n",
              "85091         5  ...     [허리, 받쳐, 주, 건, 좋, 은데, 방석, 미끌, 어, 져서, 뷸편하네용, ㅠ]\n",
              "61522         5  ...  [밥, 해도, 압력, 안, 된, 밥, 먹, 었, 는데, 새, 패킹, 으로, 갈아끼우...\n",
              "\n",
              "[5 rows x 3 columns]"
            ]
          },
          "metadata": {
            "tags": []
          },
          "execution_count": 22
        }
      ]
    },
    {
      "cell_type": "markdown",
      "metadata": {
        "id": "U6qCXGiQrir8"
      },
      "source": [
        "#### 단어 빈도에 따른 시각화"
      ]
    },
    {
      "cell_type": "code",
      "metadata": {
        "id": "SCdbZ3TXrn9T"
      },
      "source": [
        "negative_words = np.hstack(train[train.label == 0]['tokenized'].values)\n",
        "positive_words = np.hstack(train[train.label == 1]['tokenized'].values)"
      ],
      "execution_count": 23,
      "outputs": []
    },
    {
      "cell_type": "code",
      "metadata": {
        "id": "foAEZMx_rVDn"
      },
      "source": [
        "def word_count(docs):\n",
        "   \n",
        "    # 전체 코퍼스에서 단어 빈도 카운트\n",
        "    word_counts = Counter()\n",
        "\n",
        "    # 단어가 존재하는 문서의 빈도 카운트, 단어가 한 번 이상 존재하면 +1\n",
        "    word_in_docs = Counter()\n",
        "\n",
        "    # 전체 문서의 갯수\n",
        "    total_docs = len(docs)\n",
        "\n",
        "    for doc in docs:\n",
        "        word_counts.update(doc)\n",
        "        word_in_docs.update(set(doc))\n",
        "\n",
        "    temp = zip(word_counts.keys(), word_counts.values())\n",
        "\n",
        "    wc = pd.DataFrame(temp, columns = ['word', 'count'])\n",
        "\n",
        "    # 단어의 순위\n",
        "    # method='first': 같은 값의 경우 먼저나온 요소를 우선\n",
        "    wc['rank'] = wc['count'].rank(method='first', ascending=False)\n",
        "    total = wc['count'].sum()\n",
        "\n",
        "    # 코퍼스 내 단어의 비율\n",
        "    wc['percent'] = wc['count'].apply(lambda x: x / total)\n",
        "\n",
        "    wc = wc.sort_values(by='rank')\n",
        "\n",
        "    # 누적 비율\n",
        "    # cumsum() : cumulative sum\n",
        "    wc['cul_percent'] = wc['percent'].cumsum()\n",
        "\n",
        "    temp2 = zip(word_in_docs.keys(), word_in_docs.values())\n",
        "    ac = pd.DataFrame(temp2, columns=['word', 'word_in_docs'])\n",
        "    wc = ac.merge(wc, on='word')\n",
        "    \n",
        "    # 전체 문서 중 존재하는 비율\n",
        "    wc['word_in_docs_percent'] = wc['word_in_docs'].apply(lambda x: x / total_docs)\n",
        "\n",
        "    return wc.sort_values(by='rank')"
      ],
      "execution_count": 24,
      "outputs": []
    },
    {
      "cell_type": "code",
      "metadata": {
        "colab": {
          "base_uri": "https://localhost:8080/",
          "height": 359
        },
        "id": "rFrKs6gyrxIy",
        "outputId": "d9a65c99-1a9e-46c2-9028-16420e471753"
      },
      "source": [
        "nw = word_count(negative_words)\n",
        "nw.head(10)"
      ],
      "execution_count": 25,
      "outputs": [
        {
          "output_type": "execute_result",
          "data": {
            "text/html": [
              "<div>\n",
              "<style scoped>\n",
              "    .dataframe tbody tr th:only-of-type {\n",
              "        vertical-align: middle;\n",
              "    }\n",
              "\n",
              "    .dataframe tbody tr th {\n",
              "        vertical-align: top;\n",
              "    }\n",
              "\n",
              "    .dataframe thead th {\n",
              "        text-align: right;\n",
              "    }\n",
              "</style>\n",
              "<table border=\"1\" class=\"dataframe\">\n",
              "  <thead>\n",
              "    <tr style=\"text-align: right;\">\n",
              "      <th></th>\n",
              "      <th>word</th>\n",
              "      <th>word_in_docs</th>\n",
              "      <th>count</th>\n",
              "      <th>rank</th>\n",
              "      <th>percent</th>\n",
              "      <th>cul_percent</th>\n",
              "      <th>word_in_docs_percent</th>\n",
              "    </tr>\n",
              "  </thead>\n",
              "  <tbody>\n",
              "    <tr>\n",
              "      <th>5</th>\n",
              "      <td>요</td>\n",
              "      <td>100896</td>\n",
              "      <td>100936</td>\n",
              "      <td>1.0</td>\n",
              "      <td>0.042720</td>\n",
              "      <td>0.042720</td>\n",
              "      <td>0.074009</td>\n",
              "    </tr>\n",
              "    <tr>\n",
              "      <th>3</th>\n",
              "      <td>다</td>\n",
              "      <td>51064</td>\n",
              "      <td>51251</td>\n",
              "      <td>2.0</td>\n",
              "      <td>0.021691</td>\n",
              "      <td>0.064411</td>\n",
              "      <td>0.037456</td>\n",
              "    </tr>\n",
              "    <tr>\n",
              "      <th>59</th>\n",
              "      <td>어</td>\n",
              "      <td>47015</td>\n",
              "      <td>47131</td>\n",
              "      <td>3.0</td>\n",
              "      <td>0.019948</td>\n",
              "      <td>0.084359</td>\n",
              "      <td>0.034486</td>\n",
              "    </tr>\n",
              "    <tr>\n",
              "      <th>37</th>\n",
              "      <td>서</td>\n",
              "      <td>43958</td>\n",
              "      <td>44071</td>\n",
              "      <td>4.0</td>\n",
              "      <td>0.018653</td>\n",
              "      <td>0.103011</td>\n",
              "      <td>0.032244</td>\n",
              "    </tr>\n",
              "    <tr>\n",
              "      <th>6</th>\n",
              "      <td>아</td>\n",
              "      <td>42016</td>\n",
              "      <td>42158</td>\n",
              "      <td>5.0</td>\n",
              "      <td>0.017843</td>\n",
              "      <td>0.120854</td>\n",
              "      <td>0.030820</td>\n",
              "    </tr>\n",
              "    <tr>\n",
              "      <th>53</th>\n",
              "      <td>이</td>\n",
              "      <td>40504</td>\n",
              "      <td>40706</td>\n",
              "      <td>6.0</td>\n",
              "      <td>0.017228</td>\n",
              "      <td>0.138083</td>\n",
              "      <td>0.029710</td>\n",
              "    </tr>\n",
              "    <tr>\n",
              "      <th>70</th>\n",
              "      <td>니</td>\n",
              "      <td>38387</td>\n",
              "      <td>38400</td>\n",
              "      <td>7.0</td>\n",
              "      <td>0.016252</td>\n",
              "      <td>0.154335</td>\n",
              "      <td>0.028158</td>\n",
              "    </tr>\n",
              "    <tr>\n",
              "      <th>26</th>\n",
              "      <td>데</td>\n",
              "      <td>36005</td>\n",
              "      <td>36088</td>\n",
              "      <td>8.0</td>\n",
              "      <td>0.015274</td>\n",
              "      <td>0.169609</td>\n",
              "      <td>0.026410</td>\n",
              "    </tr>\n",
              "    <tr>\n",
              "      <th>22</th>\n",
              "      <td>네</td>\n",
              "      <td>35674</td>\n",
              "      <td>35688</td>\n",
              "      <td>9.0</td>\n",
              "      <td>0.015105</td>\n",
              "      <td>0.184713</td>\n",
              "      <td>0.026168</td>\n",
              "    </tr>\n",
              "    <tr>\n",
              "      <th>80</th>\n",
              "      <td>지</td>\n",
              "      <td>29785</td>\n",
              "      <td>30018</td>\n",
              "      <td>10.0</td>\n",
              "      <td>0.012705</td>\n",
              "      <td>0.197418</td>\n",
              "      <td>0.021848</td>\n",
              "    </tr>\n",
              "  </tbody>\n",
              "</table>\n",
              "</div>"
            ],
            "text/plain": [
              "   word  word_in_docs   count  ...   percent  cul_percent  word_in_docs_percent\n",
              "5     요        100896  100936  ...  0.042720     0.042720              0.074009\n",
              "3     다         51064   51251  ...  0.021691     0.064411              0.037456\n",
              "59    어         47015   47131  ...  0.019948     0.084359              0.034486\n",
              "37    서         43958   44071  ...  0.018653     0.103011              0.032244\n",
              "6     아         42016   42158  ...  0.017843     0.120854              0.030820\n",
              "53    이         40504   40706  ...  0.017228     0.138083              0.029710\n",
              "70    니         38387   38400  ...  0.016252     0.154335              0.028158\n",
              "26    데         36005   36088  ...  0.015274     0.169609              0.026410\n",
              "22    네         35674   35688  ...  0.015105     0.184713              0.026168\n",
              "80    지         29785   30018  ...  0.012705     0.197418              0.021848\n",
              "\n",
              "[10 rows x 7 columns]"
            ]
          },
          "metadata": {
            "tags": []
          },
          "execution_count": 25
        }
      ]
    },
    {
      "cell_type": "code",
      "metadata": {
        "colab": {
          "base_uri": "https://localhost:8080/",
          "height": 204
        },
        "id": "oxHQopCGr3Fj",
        "outputId": "f65e18c4-d734-45e2-fea0-f8186ac75476"
      },
      "source": [
        "pw = word_count(positive_words)\n",
        "pw.head()"
      ],
      "execution_count": 26,
      "outputs": [
        {
          "output_type": "execute_result",
          "data": {
            "text/html": [
              "<div>\n",
              "<style scoped>\n",
              "    .dataframe tbody tr th:only-of-type {\n",
              "        vertical-align: middle;\n",
              "    }\n",
              "\n",
              "    .dataframe tbody tr th {\n",
              "        vertical-align: top;\n",
              "    }\n",
              "\n",
              "    .dataframe thead th {\n",
              "        text-align: right;\n",
              "    }\n",
              "</style>\n",
              "<table border=\"1\" class=\"dataframe\">\n",
              "  <thead>\n",
              "    <tr style=\"text-align: right;\">\n",
              "      <th></th>\n",
              "      <th>word</th>\n",
              "      <th>word_in_docs</th>\n",
              "      <th>count</th>\n",
              "      <th>rank</th>\n",
              "      <th>percent</th>\n",
              "      <th>cul_percent</th>\n",
              "      <th>word_in_docs_percent</th>\n",
              "    </tr>\n",
              "  </thead>\n",
              "  <tbody>\n",
              "    <tr>\n",
              "      <th>34</th>\n",
              "      <td>요</td>\n",
              "      <td>101443</td>\n",
              "      <td>101523</td>\n",
              "      <td>1.0</td>\n",
              "      <td>0.054444</td>\n",
              "      <td>0.054444</td>\n",
              "      <td>0.093359</td>\n",
              "    </tr>\n",
              "    <tr>\n",
              "      <th>55</th>\n",
              "      <td>아</td>\n",
              "      <td>51146</td>\n",
              "      <td>51317</td>\n",
              "      <td>2.0</td>\n",
              "      <td>0.027520</td>\n",
              "      <td>0.081964</td>\n",
              "      <td>0.047070</td>\n",
              "    </tr>\n",
              "    <tr>\n",
              "      <th>14</th>\n",
              "      <td>다</td>\n",
              "      <td>50975</td>\n",
              "      <td>51055</td>\n",
              "      <td>3.0</td>\n",
              "      <td>0.027379</td>\n",
              "      <td>0.109343</td>\n",
              "      <td>0.046913</td>\n",
              "    </tr>\n",
              "    <tr>\n",
              "      <th>12</th>\n",
              "      <td>니</td>\n",
              "      <td>43976</td>\n",
              "      <td>44004</td>\n",
              "      <td>4.0</td>\n",
              "      <td>0.023598</td>\n",
              "      <td>0.132941</td>\n",
              "      <td>0.040472</td>\n",
              "    </tr>\n",
              "    <tr>\n",
              "      <th>44</th>\n",
              "      <td>좋</td>\n",
              "      <td>42500</td>\n",
              "      <td>42508</td>\n",
              "      <td>5.0</td>\n",
              "      <td>0.022796</td>\n",
              "      <td>0.155737</td>\n",
              "      <td>0.039113</td>\n",
              "    </tr>\n",
              "  </tbody>\n",
              "</table>\n",
              "</div>"
            ],
            "text/plain": [
              "   word  word_in_docs   count  ...   percent  cul_percent  word_in_docs_percent\n",
              "34    요        101443  101523  ...  0.054444     0.054444              0.093359\n",
              "55    아         51146   51317  ...  0.027520     0.081964              0.047070\n",
              "14    다         50975   51055  ...  0.027379     0.109343              0.046913\n",
              "12    니         43976   44004  ...  0.023598     0.132941              0.040472\n",
              "44    좋         42500   42508  ...  0.022796     0.155737              0.039113\n",
              "\n",
              "[5 rows x 7 columns]"
            ]
          },
          "metadata": {
            "tags": []
          },
          "execution_count": 26
        }
      ]
    },
    {
      "cell_type": "code",
      "metadata": {
        "colab": {
          "base_uri": "https://localhost:8080/"
        },
        "id": "uBPynZauso2r",
        "outputId": "d966dfed-27b5-4aab-ef4f-9dbb49952cce"
      },
      "source": [
        "pip install squarify"
      ],
      "execution_count": 27,
      "outputs": [
        {
          "output_type": "stream",
          "text": [
            "Requirement already satisfied: squarify in /usr/local/lib/python3.7/dist-packages (0.4.3)\n"
          ],
          "name": "stdout"
        }
      ]
    },
    {
      "cell_type": "code",
      "metadata": {
        "colab": {
          "base_uri": "https://localhost:8080/",
          "height": 264
        },
        "id": "YDjDRNFhsalr",
        "outputId": "8044a084-5960-487e-967d-3d5085247042"
      },
      "source": [
        "import squarify\n",
        "import matplotlib.pyplot as plt\n",
        "\n",
        "colors=['springgreen','violet','dodgerblue','gold','wheat','lightcoral',\n",
        "        'mediumslateblue','greenyellow','aquamarine','deeppink']\n",
        "\n",
        "nw_top10 = nw[nw['rank'] <= 10]\n",
        "squarify.plot(sizes=nw_top10['percent'], label=nw_top10['word'], alpha=0.6, color=colors)\n",
        "plt.rc('font',family='NanumBarunGothic')\n",
        "plt.axis('off')\n",
        "plt.title('Negative Token Top 10')\n",
        "plt.show()"
      ],
      "execution_count": 28,
      "outputs": [
        {
          "output_type": "display_data",
          "data": {
            "image/png": "[encoded data removed]",
            "text/plain": [
              "<Figure size 432x288 with 1 Axes>"
            ]
          },
          "metadata": {
            "tags": [],
            "image/png": {
              "width": 349,
              "height": 247
            },
            "needs_background": "light"
          }
        }
      ]
    },
    {
      "cell_type": "code",
      "metadata": {
        "colab": {
          "base_uri": "https://localhost:8080/",
          "height": 297
        },
        "id": "I4uTj-Mi9ZMv",
        "outputId": "e5d3e880-8615-4dfe-899c-a996cda1e4f2"
      },
      "source": [
        "import seaborn as sns\n",
        "sns.set_palette('GnBu')\n",
        "sns.barplot(x=nw['count'][:10],y=nw['word'][:10],orient='h')\n",
        "plt.title('Negative Token Top 10')\n",
        "plt.show()"
      ],
      "execution_count": 31,
      "outputs": [
        {
          "output_type": "display_data",
          "data": {
            "image/png": "[encoded data removed]",
            "text/plain": [
              "<Figure size 432x288 with 1 Axes>"
            ]
          },
          "metadata": {
            "tags": [],
            "image/png": {
              "width": 380,
              "height": 280
            },
            "needs_background": "light"
          }
        }
      ]
    },
    {
      "cell_type": "code",
      "metadata": {
        "colab": {
          "base_uri": "https://localhost:8080/",
          "height": 264
        },
        "id": "cZ4O-B7f9McM",
        "outputId": "6f369d1f-11f4-43c2-b2cf-df0f260c5715"
      },
      "source": [
        "pw_top10 = pw[pw['rank'] <= 10]\n",
        "squarify.plot(sizes=pw_top10['percent'], label=pw_top10['word'], alpha=0.6, color=colors)\n",
        "plt.rc('font',family='NanumBarunGothic')\n",
        "plt.axis('off')\n",
        "plt.title('Positive Token Top 10')\n",
        "plt.show()"
      ],
      "execution_count": 29,
      "outputs": [
        {
          "output_type": "display_data",
          "data": {
            "image/png": "[encoded data removed]",
            "text/plain": [
              "<Figure size 432x288 with 1 Axes>"
            ]
          },
          "metadata": {
            "tags": [],
            "image/png": {
              "width": 349,
              "height": 247
            },
            "needs_background": "light"
          }
        }
      ]
    },
    {
      "cell_type": "code",
      "metadata": {
        "colab": {
          "base_uri": "https://localhost:8080/",
          "height": 297
        },
        "id": "PcbJML-M9lCP",
        "outputId": "f1991245-0f20-4ff6-ea0d-21e924734474"
      },
      "source": [
        "sns.set_palette('GnBu')\n",
        "sns.barplot(x=pw['count'][:10],y=pw['word'][:10],orient='h')\n",
        "plt.title('Positive Token Top 10')\n",
        "plt.show()"
      ],
      "execution_count": 32,
      "outputs": [
        {
          "output_type": "display_data",
          "data": {
            "image/png": "[encoded data removed]",
            "text/plain": [
              "<Figure size 432x288 with 1 Axes>"
            ]
          },
          "metadata": {
            "tags": [],
            "image/png": {
              "width": 380,
              "height": 280
            },
            "needs_background": "light"
          }
        }
      ]
    }
  ]
}