{
  "nbformat": 4,
  "nbformat_minor": 0,
  "metadata": {
    "colab": {
      "name": "sentiment project using okt.ipynb",
      "provenance": [],
      "authorship_tag": "ABX9TyPagx9Aj7Xg+GvEKjsaHNC0",
      "include_colab_link": true
    },
    "kernelspec": {
      "name": "python3",
      "display_name": "Python 3"
    },
    "language_info": {
      "name": "python"
    },
    "accelerator": "GPU"
  },
  "cells": [
    {
      "cell_type": "markdown",
      "metadata": {
        "id": "view-in-github",
        "colab_type": "text"
      },
      "source": [
        "<a href=\"https://colab.research.google.com/github/threegenie/sentiment_project/blob/main/sentiment_project_using_okt.ipynb\" target=\"_parent\"><img src=\"https://colab.research.google.com/assets/colab-badge.svg\" alt=\"Open In Colab\"/></a>"
      ]
    },
    {
      "cell_type": "code",
      "metadata": {
        "colab": {
          "base_uri": "https://localhost:8080/"
        },
        "id": "jsXg1HswALe-",
        "outputId": "e0d2352e-fe8f-4ea7-87c1-91af2ca4dc0b"
      },
      "source": [
        "! pip install konlpy"
      ],
      "execution_count": 1,
      "outputs": [
        {
          "output_type": "stream",
          "text": [
            "Collecting konlpy\n",
            "\u001b[?25l  Downloading https://files.pythonhosted.org/packages/85/0e/f385566fec837c0b83f216b2da65db9997b35dd675e107752005b7d392b1/konlpy-0.5.2-py2.py3-none-any.whl (19.4MB)\n",
            "\u001b[K     |████████████████████████████████| 19.4MB 1.5MB/s \n",
            "\u001b[?25hCollecting beautifulsoup4==4.6.0\n",
            "\u001b[?25l  Downloading https://files.pythonhosted.org/packages/9e/d4/10f46e5cfac773e22707237bfcd51bbffeaf0a576b0a847ec7ab15bd7ace/beautifulsoup4-4.6.0-py3-none-any.whl (86kB)\n",
            "\u001b[K     |████████████████████████████████| 92kB 13.1MB/s \n",
            "\u001b[?25hCollecting JPype1>=0.7.0\n",
            "\u001b[?25l  Downloading https://files.pythonhosted.org/packages/cd/a5/9781e2ef4ca92d09912c4794642c1653aea7607f473e156cf4d423a881a1/JPype1-1.2.1-cp37-cp37m-manylinux2010_x86_64.whl (457kB)\n",
            "\u001b[K     |████████████████████████████████| 460kB 50.4MB/s \n",
            "\u001b[?25hRequirement already satisfied: tweepy>=3.7.0 in /usr/local/lib/python3.7/dist-packages (from konlpy) (3.10.0)\n",
            "Collecting colorama\n",
            "  Downloading https://files.pythonhosted.org/packages/44/98/5b86278fbbf250d239ae0ecb724f8572af1c91f4a11edf4d36a206189440/colorama-0.4.4-py2.py3-none-any.whl\n",
            "Requirement already satisfied: lxml>=4.1.0 in /usr/local/lib/python3.7/dist-packages (from konlpy) (4.2.6)\n",
            "Requirement already satisfied: numpy>=1.6 in /usr/local/lib/python3.7/dist-packages (from konlpy) (1.19.5)\n",
            "Requirement already satisfied: typing-extensions; python_version < \"3.8\" in /usr/local/lib/python3.7/dist-packages (from JPype1>=0.7.0->konlpy) (3.7.4.3)\n",
            "Requirement already satisfied: requests[socks]>=2.11.1 in /usr/local/lib/python3.7/dist-packages (from tweepy>=3.7.0->konlpy) (2.23.0)\n",
            "Requirement already satisfied: six>=1.10.0 in /usr/local/lib/python3.7/dist-packages (from tweepy>=3.7.0->konlpy) (1.15.0)\n",
            "Requirement already satisfied: requests-oauthlib>=0.7.0 in /usr/local/lib/python3.7/dist-packages (from tweepy>=3.7.0->konlpy) (1.3.0)\n",
            "Requirement already satisfied: certifi>=2017.4.17 in /usr/local/lib/python3.7/dist-packages (from requests[socks]>=2.11.1->tweepy>=3.7.0->konlpy) (2020.12.5)\n",
            "Requirement already satisfied: chardet<4,>=3.0.2 in /usr/local/lib/python3.7/dist-packages (from requests[socks]>=2.11.1->tweepy>=3.7.0->konlpy) (3.0.4)\n",
            "Requirement already satisfied: urllib3!=1.25.0,!=1.25.1,<1.26,>=1.21.1 in /usr/local/lib/python3.7/dist-packages (from requests[socks]>=2.11.1->tweepy>=3.7.0->konlpy) (1.24.3)\n",
            "Requirement already satisfied: idna<3,>=2.5 in /usr/local/lib/python3.7/dist-packages (from requests[socks]>=2.11.1->tweepy>=3.7.0->konlpy) (2.10)\n",
            "Requirement already satisfied: PySocks!=1.5.7,>=1.5.6; extra == \"socks\" in /usr/local/lib/python3.7/dist-packages (from requests[socks]>=2.11.1->tweepy>=3.7.0->konlpy) (1.7.1)\n",
            "Requirement already satisfied: oauthlib>=3.0.0 in /usr/local/lib/python3.7/dist-packages (from requests-oauthlib>=0.7.0->tweepy>=3.7.0->konlpy) (3.1.0)\n",
            "Installing collected packages: beautifulsoup4, JPype1, colorama, konlpy\n",
            "  Found existing installation: beautifulsoup4 4.6.3\n",
            "    Uninstalling beautifulsoup4-4.6.3:\n",
            "      Successfully uninstalled beautifulsoup4-4.6.3\n",
            "Successfully installed JPype1-1.2.1 beautifulsoup4-4.6.0 colorama-0.4.4 konlpy-0.5.2\n"
          ],
          "name": "stdout"
        }
      ]
    },
    {
      "cell_type": "code",
      "metadata": {
        "id": "7sgfTS43s6Yo",
        "colab": {
          "base_uri": "https://localhost:8080/"
        },
        "outputId": "9116b5de-9353-4002-f730-edcd6166a408"
      },
      "source": [
        "!sudo apt-get install -y fonts-nanum\n",
        "!sudo fc-cache -fv\n",
        "!rm ~/.cache/matplotlib -rf"
      ],
      "execution_count": 4,
      "outputs": [
        {
          "output_type": "stream",
          "text": [
            "Reading package lists... Done\n",
            "Building dependency tree       \n",
            "Reading state information... Done\n",
            "The following NEW packages will be installed:\n",
            "  fonts-nanum\n",
            "0 upgraded, 1 newly installed, 0 to remove and 39 not upgraded.\n",
            "Need to get 9,604 kB of archives.\n",
            "After this operation, 29.5 MB of additional disk space will be used.\n",
            "Get:1 http://archive.ubuntu.com/ubuntu bionic/universe amd64 fonts-nanum all 20170925-1 [9,604 kB]\n",
            "Fetched 9,604 kB in 3s (3,229 kB/s)\n",
            "debconf: unable to initialize frontend: Dialog\n",
            "debconf: (No usable dialog-like program is installed, so the dialog based frontend cannot be used. at /usr/share/perl5/Debconf/FrontEnd/Dialog.pm line 76, <> line 1.)\n",
            "debconf: falling back to frontend: Readline\n",
            "debconf: unable to initialize frontend: Readline\n",
            "debconf: (This frontend requires a controlling tty.)\n",
            "debconf: falling back to frontend: Teletype\n",
            "dpkg-preconfigure: unable to re-open stdin: \n",
            "Selecting previously unselected package fonts-nanum.\n",
            "(Reading database ... 160772 files and directories currently installed.)\n",
            "Preparing to unpack .../fonts-nanum_20170925-1_all.deb ...\n",
            "Unpacking fonts-nanum (20170925-1) ...\n",
            "Setting up fonts-nanum (20170925-1) ...\n",
            "Processing triggers for fontconfig (2.12.6-0ubuntu2) ...\n",
            "/usr/share/fonts: caching, new cache contents: 0 fonts, 1 dirs\n",
            "/usr/share/fonts/truetype: caching, new cache contents: 0 fonts, 3 dirs\n",
            "/usr/share/fonts/truetype/humor-sans: caching, new cache contents: 1 fonts, 0 dirs\n",
            "/usr/share/fonts/truetype/liberation: caching, new cache contents: 16 fonts, 0 dirs\n",
            "/usr/share/fonts/truetype/nanum: caching, new cache contents: 10 fonts, 0 dirs\n",
            "/usr/local/share/fonts: caching, new cache contents: 0 fonts, 0 dirs\n",
            "/root/.local/share/fonts: skipping, no such directory\n",
            "/root/.fonts: skipping, no such directory\n",
            "/var/cache/fontconfig: cleaning cache directory\n",
            "/root/.cache/fontconfig: not cleaning non-existent cache directory\n",
            "/root/.fontconfig: not cleaning non-existent cache directory\n",
            "fc-cache: succeeded\n"
          ],
          "name": "stdout"
        }
      ]
    },
    {
      "cell_type": "code",
      "metadata": {
        "id": "vPNxmDoYt2IQ",
        "colab": {
          "base_uri": "https://localhost:8080/"
        },
        "outputId": "2bf21f46-70b5-49be-97bd-0caa45e6ea4d"
      },
      "source": [
        "import matplotlib as mpl\n",
        "import matplotlib.pyplot as plt\n",
        "%config InlineBackend.figure_format = 'retina'\n",
        " \n",
        "!apt -qq -y install fonts-nanum\n",
        " \n",
        "import matplotlib.font_manager as fm\n",
        "fontpath = '/usr/share/fonts/truetype/nanum/NanumBarunGothic.ttf'\n",
        "font = fm.FontProperties(fname=fontpath, size=9)\n",
        "plt.rc('font', family='NanumBarunGothic') \n",
        "#mpl.font_manager._rebuild()\n",
        "\n",
        "# https://pinkwink.kr/1255 / https://teddylee777.github.io/colab/colab-korean 한글 문제 대응 참고"
      ],
      "execution_count": 5,
      "outputs": [
        {
          "output_type": "stream",
          "text": [
            "fonts-nanum is already the newest version (20170925-1).\n",
            "0 upgraded, 0 newly installed, 0 to remove and 39 not upgraded.\n"
          ],
          "name": "stdout"
        }
      ]
    },
    {
      "cell_type": "code",
      "metadata": {
        "id": "K1UjeNc_UygR"
      },
      "source": [
        "import pandas as pd\n",
        "import numpy as np\n",
        "import matplotlib.pyplot as plt\n",
        "import seaborn as sns\n",
        "import urllib.request\n",
        "from collections import Counter\n",
        "from sklearn.model_selection import train_test_split\n",
        "from tensorflow.keras.preprocessing.text import Tokenizer\n",
        "from tensorflow.keras.preprocessing.sequence import pad_sequences"
      ],
      "execution_count": 6,
      "outputs": []
    },
    {
      "cell_type": "code",
      "metadata": {
        "id": "59Y4Pm6MmvVW"
      },
      "source": [
        "# 오류(SettingWithCopyError 발생)\n",
        "pd.set_option('mode.chained_assignment', 'raise') # SettingWithCopyError\n",
        "\n",
        "# 경고(SettingWithCopyWarning 발생, 기본 값입니다)\n",
        "pd.set_option('mode.chained_assignment', 'warn') # SettingWithCopyWarning\n",
        "\n",
        "# 무시\n",
        "pd.set_option('mode.chained_assignment',  None) # <==== 경고를 끈다"
      ],
      "execution_count": 7,
      "outputs": []
    },
    {
      "cell_type": "code",
      "metadata": {
        "colab": {
          "base_uri": "https://localhost:8080/",
          "height": 419
        },
        "id": "h7RW-qvafpXH",
        "outputId": "48ac2f75-4b5b-4dca-f070-5048613af00f"
      },
      "source": [
        "df = pd.read_table('review.txt', names=['ratings', 'reviews'])\n",
        "df"
      ],
      "execution_count": 8,
      "outputs": [
        {
          "output_type": "execute_result",
          "data": {
            "text/html": [
              "<div>\n",
              "<style scoped>\n",
              "    .dataframe tbody tr th:only-of-type {\n",
              "        vertical-align: middle;\n",
              "    }\n",
              "\n",
              "    .dataframe tbody tr th {\n",
              "        vertical-align: top;\n",
              "    }\n",
              "\n",
              "    .dataframe thead th {\n",
              "        text-align: right;\n",
              "    }\n",
              "</style>\n",
              "<table border=\"1\" class=\"dataframe\">\n",
              "  <thead>\n",
              "    <tr style=\"text-align: right;\">\n",
              "      <th></th>\n",
              "      <th>ratings</th>\n",
              "      <th>reviews</th>\n",
              "    </tr>\n",
              "  </thead>\n",
              "  <tbody>\n",
              "    <tr>\n",
              "      <th>0</th>\n",
              "      <td>5</td>\n",
              "      <td>배공빠르고 굿</td>\n",
              "    </tr>\n",
              "    <tr>\n",
              "      <th>1</th>\n",
              "      <td>2</td>\n",
              "      <td>택배가 엉망이네용 저희집 밑에층에 말도없이 놔두고가고</td>\n",
              "    </tr>\n",
              "    <tr>\n",
              "      <th>2</th>\n",
              "      <td>5</td>\n",
              "      <td>아주좋아요 바지 정말 좋아서2개 더 구매했어요 이가격에 대박입니다. 바느질이 조금 ...</td>\n",
              "    </tr>\n",
              "    <tr>\n",
              "      <th>3</th>\n",
              "      <td>2</td>\n",
              "      <td>선물용으로 빨리 받아서 전달했어야 하는 상품이었는데 머그컵만 와서 당황했습니다. 전...</td>\n",
              "    </tr>\n",
              "    <tr>\n",
              "      <th>4</th>\n",
              "      <td>5</td>\n",
              "      <td>민트색상 예뻐요. 옆 손잡이는 거는 용도로도 사용되네요 ㅎㅎ</td>\n",
              "    </tr>\n",
              "    <tr>\n",
              "      <th>...</th>\n",
              "      <td>...</td>\n",
              "      <td>...</td>\n",
              "    </tr>\n",
              "    <tr>\n",
              "      <th>40386</th>\n",
              "      <td>5</td>\n",
              "      <td>설치도 빠르고, 기사님 두분도 친절하고 설명도 잘해주시고 뒷정리도 깔끔하게 해주셔서...</td>\n",
              "    </tr>\n",
              "    <tr>\n",
              "      <th>40387</th>\n",
              "      <td>5</td>\n",
              "      <td>멋지다~!!!!!!!!1</td>\n",
              "    </tr>\n",
              "    <tr>\n",
              "      <th>40388</th>\n",
              "      <td>5</td>\n",
              "      <td>가격대비 나름 사용하기 편합니다</td>\n",
              "    </tr>\n",
              "    <tr>\n",
              "      <th>40389</th>\n",
              "      <td>4</td>\n",
              "      <td>좋은 제품은 맞는듯 하지만 아주 심한 건성인 저에겐 그저그런 보습제네요..</td>\n",
              "    </tr>\n",
              "    <tr>\n",
              "      <th>40390</th>\n",
              "      <td>2</td>\n",
              "      <td>배송도 느렸고 중국제가 다 그렇듯 냄새도 심하고 별로네요</td>\n",
              "    </tr>\n",
              "  </tbody>\n",
              "</table>\n",
              "<p>40391 rows × 2 columns</p>\n",
              "</div>"
            ],
            "text/plain": [
              "       ratings                                            reviews\n",
              "0            5                                            배공빠르고 굿\n",
              "1            2                      택배가 엉망이네용 저희집 밑에층에 말도없이 놔두고가고\n",
              "2            5  아주좋아요 바지 정말 좋아서2개 더 구매했어요 이가격에 대박입니다. 바느질이 조금 ...\n",
              "3            2  선물용으로 빨리 받아서 전달했어야 하는 상품이었는데 머그컵만 와서 당황했습니다. 전...\n",
              "4            5                  민트색상 예뻐요. 옆 손잡이는 거는 용도로도 사용되네요 ㅎㅎ\n",
              "...        ...                                                ...\n",
              "40386        5  설치도 빠르고, 기사님 두분도 친절하고 설명도 잘해주시고 뒷정리도 깔끔하게 해주셔서...\n",
              "40387        5                                      멋지다~!!!!!!!!1\n",
              "40388        5                                  가격대비 나름 사용하기 편합니다\n",
              "40389        4          좋은 제품은 맞는듯 하지만 아주 심한 건성인 저에겐 그저그런 보습제네요..\n",
              "40390        2                    배송도 느렸고 중국제가 다 그렇듯 냄새도 심하고 별로네요\n",
              "\n",
              "[40391 rows x 2 columns]"
            ]
          },
          "metadata": {
            "tags": []
          },
          "execution_count": 8
        }
      ]
    },
    {
      "cell_type": "markdown",
      "metadata": {
        "id": "SHuhRb_JnKPL"
      },
      "source": [
        "#### 중복 데이터가 있다면 제거"
      ]
    },
    {
      "cell_type": "code",
      "metadata": {
        "colab": {
          "base_uri": "https://localhost:8080/"
        },
        "id": "3FRHGKE-kW8i",
        "outputId": "fda02703-ca55-4919-951c-cf131850da80"
      },
      "source": [
        "df.drop_duplicates('reviews',keep='first')\n",
        "df.shape"
      ],
      "execution_count": 9,
      "outputs": [
        {
          "output_type": "execute_result",
          "data": {
            "text/plain": [
              "(40391, 2)"
            ]
          },
          "metadata": {
            "tags": []
          },
          "execution_count": 9
        }
      ]
    },
    {
      "cell_type": "markdown",
      "metadata": {
        "id": "S9UQ2UNjiNlW"
      },
      "source": [
        "#### 훈련, 테스트셋 분리"
      ]
    },
    {
      "cell_type": "code",
      "metadata": {
        "colab": {
          "base_uri": "https://localhost:8080/"
        },
        "id": "dwjV7glBiQYv",
        "outputId": "2de6a9b5-970d-49ae-8f49-7d492a0b0012"
      },
      "source": [
        "train, val = train_test_split(df, test_size = 0.2, random_state = 11)\n",
        "train.shape, val.shape"
      ],
      "execution_count": 10,
      "outputs": [
        {
          "output_type": "execute_result",
          "data": {
            "text/plain": [
              "((32312, 2), (8079, 2))"
            ]
          },
          "metadata": {
            "tags": []
          },
          "execution_count": 10
        }
      ]
    },
    {
      "cell_type": "code",
      "metadata": {
        "colab": {
          "base_uri": "https://localhost:8080/"
        },
        "id": "AwcnQTJKOZKT",
        "outputId": "7979660e-e804-474d-dbfe-00f42adc474a"
      },
      "source": [
        "val, test = train_test_split(val, test_size = 0.5, random_state = 11)\n",
        "val.shape, test.shape"
      ],
      "execution_count": 11,
      "outputs": [
        {
          "output_type": "execute_result",
          "data": {
            "text/plain": [
              "((4039, 2), (4040, 2))"
            ]
          },
          "metadata": {
            "tags": []
          },
          "execution_count": 11
        }
      ]
    },
    {
      "cell_type": "markdown",
      "metadata": {
        "id": "OdPlO-ZKh8Ie"
      },
      "source": [
        "#### 별점으로 라벨링 : 별점이 4을 넘으면 긍정 리뷰, 이하는 부정 리뷰로 분류"
      ]
    },
    {
      "cell_type": "code",
      "metadata": {
        "colab": {
          "base_uri": "https://localhost:8080/",
          "height": 419
        },
        "id": "cAQOvtzugkRG",
        "outputId": "3b6bed87-fdf9-4869-9471-ae46943b0547"
      },
      "source": [
        "def star_evaluate(rating):\n",
        "  if rating >=4:\n",
        "    return 1\n",
        "  else:\n",
        "    return 0\n",
        "  \n",
        "train['label'] = train['ratings'].apply(star_evaluate)\n",
        "val['label'] = val['ratings'].apply(star_evaluate)\n",
        "train"
      ],
      "execution_count": 12,
      "outputs": [
        {
          "output_type": "execute_result",
          "data": {
            "text/html": [
              "<div>\n",
              "<style scoped>\n",
              "    .dataframe tbody tr th:only-of-type {\n",
              "        vertical-align: middle;\n",
              "    }\n",
              "\n",
              "    .dataframe tbody tr th {\n",
              "        vertical-align: top;\n",
              "    }\n",
              "\n",
              "    .dataframe thead th {\n",
              "        text-align: right;\n",
              "    }\n",
              "</style>\n",
              "<table border=\"1\" class=\"dataframe\">\n",
              "  <thead>\n",
              "    <tr style=\"text-align: right;\">\n",
              "      <th></th>\n",
              "      <th>ratings</th>\n",
              "      <th>reviews</th>\n",
              "      <th>label</th>\n",
              "    </tr>\n",
              "  </thead>\n",
              "  <tbody>\n",
              "    <tr>\n",
              "      <th>9529</th>\n",
              "      <td>1</td>\n",
              "      <td>진짜가방을 쨥처럽 보이게하네요. 이건 환불불가이니. 강매같은 느낌</td>\n",
              "      <td>0</td>\n",
              "    </tr>\n",
              "    <tr>\n",
              "      <th>28910</th>\n",
              "      <td>1</td>\n",
              "      <td>흰색인줄 알앗더니 아이보리색깔이네요 아쉬워요</td>\n",
              "      <td>0</td>\n",
              "    </tr>\n",
              "    <tr>\n",
              "      <th>25065</th>\n",
              "      <td>2</td>\n",
              "      <td>그냥 저렴해보이네요.. 특히 압축봉은 최악</td>\n",
              "      <td>0</td>\n",
              "    </tr>\n",
              "    <tr>\n",
              "      <th>28446</th>\n",
              "      <td>2</td>\n",
              "      <td>재구매 솔직히 이번 살치살은 질기고 실망이였어요</td>\n",
              "      <td>0</td>\n",
              "    </tr>\n",
              "    <tr>\n",
              "      <th>24724</th>\n",
              "      <td>1</td>\n",
              "      <td>사이즈는 딱 맞는데 깨져서 욌어요.</td>\n",
              "      <td>0</td>\n",
              "    </tr>\n",
              "    <tr>\n",
              "      <th>...</th>\n",
              "      <td>...</td>\n",
              "      <td>...</td>\n",
              "      <td>...</td>\n",
              "    </tr>\n",
              "    <tr>\n",
              "      <th>32081</th>\n",
              "      <td>5</td>\n",
              "      <td>아이폰 잘쓰고 있는데 베터리가 나가서 구매했습니다~ 양면테이프가 중간에 끊어져서 베...</td>\n",
              "      <td>1</td>\n",
              "    </tr>\n",
              "    <tr>\n",
              "      <th>7259</th>\n",
              "      <td>1</td>\n",
              "      <td>마감이 허술합니다 사포가없어서 우선 태잎붙여놨어요 모서리가 날카롭도 조금 깨진부분도...</td>\n",
              "      <td>0</td>\n",
              "    </tr>\n",
              "    <tr>\n",
              "      <th>21584</th>\n",
              "      <td>2</td>\n",
              "      <td>네조아요. 필요해서 샀어요</td>\n",
              "      <td>0</td>\n",
              "    </tr>\n",
              "    <tr>\n",
              "      <th>36543</th>\n",
              "      <td>5</td>\n",
              "      <td>발열 엄청 오래 지속되고 냄새도 없고 만족합니다</td>\n",
              "      <td>1</td>\n",
              "    </tr>\n",
              "    <tr>\n",
              "      <th>10137</th>\n",
              "      <td>2</td>\n",
              "      <td>포장용기 바꿔서 가격을 낮추는게 너무 비싸네요</td>\n",
              "      <td>0</td>\n",
              "    </tr>\n",
              "  </tbody>\n",
              "</table>\n",
              "<p>32312 rows × 3 columns</p>\n",
              "</div>"
            ],
            "text/plain": [
              "       ratings                                            reviews  label\n",
              "9529         1               진짜가방을 쨥처럽 보이게하네요. 이건 환불불가이니. 강매같은 느낌      0\n",
              "28910        1                           흰색인줄 알앗더니 아이보리색깔이네요 아쉬워요      0\n",
              "25065        2                            그냥 저렴해보이네요.. 특히 압축봉은 최악      0\n",
              "28446        2                         재구매 솔직히 이번 살치살은 질기고 실망이였어요      0\n",
              "24724        1                                사이즈는 딱 맞는데 깨져서 욌어요.      0\n",
              "...        ...                                                ...    ...\n",
              "32081        5  아이폰 잘쓰고 있는데 베터리가 나가서 구매했습니다~ 양면테이프가 중간에 끊어져서 베...      1\n",
              "7259         1  마감이 허술합니다 사포가없어서 우선 태잎붙여놨어요 모서리가 날카롭도 조금 깨진부분도...      0\n",
              "21584        2                                     네조아요. 필요해서 샀어요      0\n",
              "36543        5                         발열 엄청 오래 지속되고 냄새도 없고 만족합니다      1\n",
              "10137        2                          포장용기 바꿔서 가격을 낮추는게 너무 비싸네요      0\n",
              "\n",
              "[32312 rows x 3 columns]"
            ]
          },
          "metadata": {
            "tags": []
          },
          "execution_count": 12
        }
      ]
    },
    {
      "cell_type": "code",
      "metadata": {
        "colab": {
          "base_uri": "https://localhost:8080/"
        },
        "id": "axVnOACzmJ-6",
        "outputId": "22ccd740-b00b-49d8-cb13-1cc46349cdac"
      },
      "source": [
        "train['label'].value_counts()"
      ],
      "execution_count": 13,
      "outputs": [
        {
          "output_type": "execute_result",
          "data": {
            "text/plain": [
              "0    16362\n",
              "1    15950\n",
              "Name: label, dtype: int64"
            ]
          },
          "metadata": {
            "tags": []
          },
          "execution_count": 13
        }
      ]
    },
    {
      "cell_type": "markdown",
      "metadata": {
        "id": "4qe_ms1umWpm"
      },
      "source": [
        "#### 데이터 정제 - 훈련, 테스트셋에 모두 적용 -> 정규표현식 사용하여 한글 제외 모두 제거"
      ]
    },
    {
      "cell_type": "code",
      "metadata": {
        "colab": {
          "base_uri": "https://localhost:8080/",
          "height": 204
        },
        "id": "wwviODNLkERO",
        "outputId": "38b6df4b-49cd-47ac-84fa-5983ceb4ea95"
      },
      "source": [
        "train['reviews'] = train['reviews'].str.replace(\"[^ㄱ-ㅎㅏ-ㅣ가-힣 ]\",\"\")\n",
        "train['reviews'].replace('', np.nan, inplace=True)\n",
        "train.head()"
      ],
      "execution_count": 14,
      "outputs": [
        {
          "output_type": "execute_result",
          "data": {
            "text/html": [
              "<div>\n",
              "<style scoped>\n",
              "    .dataframe tbody tr th:only-of-type {\n",
              "        vertical-align: middle;\n",
              "    }\n",
              "\n",
              "    .dataframe tbody tr th {\n",
              "        vertical-align: top;\n",
              "    }\n",
              "\n",
              "    .dataframe thead th {\n",
              "        text-align: right;\n",
              "    }\n",
              "</style>\n",
              "<table border=\"1\" class=\"dataframe\">\n",
              "  <thead>\n",
              "    <tr style=\"text-align: right;\">\n",
              "      <th></th>\n",
              "      <th>ratings</th>\n",
              "      <th>reviews</th>\n",
              "      <th>label</th>\n",
              "    </tr>\n",
              "  </thead>\n",
              "  <tbody>\n",
              "    <tr>\n",
              "      <th>9529</th>\n",
              "      <td>1</td>\n",
              "      <td>진짜가방을 쨥처럽 보이게하네요 이건 환불불가이니 강매같은 느낌</td>\n",
              "      <td>0</td>\n",
              "    </tr>\n",
              "    <tr>\n",
              "      <th>28910</th>\n",
              "      <td>1</td>\n",
              "      <td>흰색인줄 알앗더니 아이보리색깔이네요 아쉬워요</td>\n",
              "      <td>0</td>\n",
              "    </tr>\n",
              "    <tr>\n",
              "      <th>25065</th>\n",
              "      <td>2</td>\n",
              "      <td>그냥 저렴해보이네요 특히 압축봉은 최악</td>\n",
              "      <td>0</td>\n",
              "    </tr>\n",
              "    <tr>\n",
              "      <th>28446</th>\n",
              "      <td>2</td>\n",
              "      <td>재구매 솔직히 이번 살치살은 질기고 실망이였어요</td>\n",
              "      <td>0</td>\n",
              "    </tr>\n",
              "    <tr>\n",
              "      <th>24724</th>\n",
              "      <td>1</td>\n",
              "      <td>사이즈는 딱 맞는데 깨져서 욌어요</td>\n",
              "      <td>0</td>\n",
              "    </tr>\n",
              "  </tbody>\n",
              "</table>\n",
              "</div>"
            ],
            "text/plain": [
              "       ratings                             reviews  label\n",
              "9529         1  진짜가방을 쨥처럽 보이게하네요 이건 환불불가이니 강매같은 느낌      0\n",
              "28910        1            흰색인줄 알앗더니 아이보리색깔이네요 아쉬워요      0\n",
              "25065        2               그냥 저렴해보이네요 특히 압축봉은 최악      0\n",
              "28446        2          재구매 솔직히 이번 살치살은 질기고 실망이였어요      0\n",
              "24724        1                  사이즈는 딱 맞는데 깨져서 욌어요      0"
            ]
          },
          "metadata": {
            "tags": []
          },
          "execution_count": 14
        }
      ]
    },
    {
      "cell_type": "code",
      "metadata": {
        "colab": {
          "base_uri": "https://localhost:8080/",
          "height": 204
        },
        "id": "ww895LzIPA5n",
        "outputId": "f0e0a146-1e1f-4917-c237-110c0af28ea2"
      },
      "source": [
        "val['reviews'] = val['reviews'].str.replace(\"[^ㄱ-ㅎㅏ-ㅣ가-힣 ]\",\"\")\n",
        "val['reviews'].replace('', np.nan, inplace=True)\n",
        "val.head()"
      ],
      "execution_count": 15,
      "outputs": [
        {
          "output_type": "execute_result",
          "data": {
            "text/html": [
              "<div>\n",
              "<style scoped>\n",
              "    .dataframe tbody tr th:only-of-type {\n",
              "        vertical-align: middle;\n",
              "    }\n",
              "\n",
              "    .dataframe tbody tr th {\n",
              "        vertical-align: top;\n",
              "    }\n",
              "\n",
              "    .dataframe thead th {\n",
              "        text-align: right;\n",
              "    }\n",
              "</style>\n",
              "<table border=\"1\" class=\"dataframe\">\n",
              "  <thead>\n",
              "    <tr style=\"text-align: right;\">\n",
              "      <th></th>\n",
              "      <th>ratings</th>\n",
              "      <th>reviews</th>\n",
              "      <th>label</th>\n",
              "    </tr>\n",
              "  </thead>\n",
              "  <tbody>\n",
              "    <tr>\n",
              "      <th>36554</th>\n",
              "      <td>2</td>\n",
              "      <td>배송짱오래걸림</td>\n",
              "      <td>0</td>\n",
              "    </tr>\n",
              "    <tr>\n",
              "      <th>20027</th>\n",
              "      <td>1</td>\n",
              "      <td>확장되서 좋다고해서샀는데 확장은되는데 그안에 물건을 넣지못하면 왜 확장이되는건지 댓...</td>\n",
              "      <td>0</td>\n",
              "    </tr>\n",
              "    <tr>\n",
              "      <th>34644</th>\n",
              "      <td>2</td>\n",
              "      <td>공용인데 남자가 입긴 너무나 짧아요</td>\n",
              "      <td>0</td>\n",
              "    </tr>\n",
              "    <tr>\n",
              "      <th>18943</th>\n",
              "      <td>1</td>\n",
              "      <td>스크래치있는 제품 보내시고 박스버리고 스티커 떼고 난 후에도 안보였는데 설거지할 때...</td>\n",
              "      <td>0</td>\n",
              "    </tr>\n",
              "    <tr>\n",
              "      <th>33943</th>\n",
              "      <td>1</td>\n",
              "      <td>별 한개도 아까워요</td>\n",
              "      <td>0</td>\n",
              "    </tr>\n",
              "  </tbody>\n",
              "</table>\n",
              "</div>"
            ],
            "text/plain": [
              "       ratings                                            reviews  label\n",
              "36554        2                                            배송짱오래걸림      0\n",
              "20027        1  확장되서 좋다고해서샀는데 확장은되는데 그안에 물건을 넣지못하면 왜 확장이되는건지 댓...      0\n",
              "34644        2                                공용인데 남자가 입긴 너무나 짧아요      0\n",
              "18943        1  스크래치있는 제품 보내시고 박스버리고 스티커 떼고 난 후에도 안보였는데 설거지할 때...      0\n",
              "33943        1                                         별 한개도 아까워요      0"
            ]
          },
          "metadata": {
            "tags": []
          },
          "execution_count": 15
        }
      ]
    },
    {
      "cell_type": "code",
      "metadata": {
        "colab": {
          "base_uri": "https://localhost:8080/",
          "height": 204
        },
        "id": "kKHkjDEnmmBx",
        "outputId": "21bca671-023a-44de-9e86-08aca0712352"
      },
      "source": [
        "test['reviews'] = test['reviews'].str.replace(\"[^ㄱ-ㅎㅏ-ㅣ가-힣 ]\",\"\")\n",
        "test['reviews'].replace('', np.nan, inplace=True)\n",
        "test.head()"
      ],
      "execution_count": 16,
      "outputs": [
        {
          "output_type": "execute_result",
          "data": {
            "text/html": [
              "<div>\n",
              "<style scoped>\n",
              "    .dataframe tbody tr th:only-of-type {\n",
              "        vertical-align: middle;\n",
              "    }\n",
              "\n",
              "    .dataframe tbody tr th {\n",
              "        vertical-align: top;\n",
              "    }\n",
              "\n",
              "    .dataframe thead th {\n",
              "        text-align: right;\n",
              "    }\n",
              "</style>\n",
              "<table border=\"1\" class=\"dataframe\">\n",
              "  <thead>\n",
              "    <tr style=\"text-align: right;\">\n",
              "      <th></th>\n",
              "      <th>ratings</th>\n",
              "      <th>reviews</th>\n",
              "    </tr>\n",
              "  </thead>\n",
              "  <tbody>\n",
              "    <tr>\n",
              "      <th>6544</th>\n",
              "      <td>2</td>\n",
              "      <td>음사용감이 불편한 것 빼고는 다 좋아요</td>\n",
              "    </tr>\n",
              "    <tr>\n",
              "      <th>629</th>\n",
              "      <td>5</td>\n",
              "      <td>이쁘네여으ㅅ</td>\n",
              "    </tr>\n",
              "    <tr>\n",
              "      <th>20764</th>\n",
              "      <td>2</td>\n",
              "      <td>좋긴좋은데 무게도무겁고 근데 좀 위험합니다 마무리가 날카로워서 다칠우려가 매우커요</td>\n",
              "    </tr>\n",
              "    <tr>\n",
              "      <th>1152</th>\n",
              "      <td>5</td>\n",
              "      <td>굿 이지마는 구들장이 없습니다 애들이 너무 덥대요 있습니다 너무 좋아해요 빠른 배송...</td>\n",
              "    </tr>\n",
              "    <tr>\n",
              "      <th>25813</th>\n",
              "      <td>5</td>\n",
              "      <td>전늘 삼다수만 주문해서 꾸준히 잘 먹고있습니다</td>\n",
              "    </tr>\n",
              "  </tbody>\n",
              "</table>\n",
              "</div>"
            ],
            "text/plain": [
              "       ratings                                            reviews\n",
              "6544         2                              음사용감이 불편한 것 빼고는 다 좋아요\n",
              "629          5                                             이쁘네여으ㅅ\n",
              "20764        2      좋긴좋은데 무게도무겁고 근데 좀 위험합니다 마무리가 날카로워서 다칠우려가 매우커요\n",
              "1152         5  굿 이지마는 구들장이 없습니다 애들이 너무 덥대요 있습니다 너무 좋아해요 빠른 배송...\n",
              "25813        5                          전늘 삼다수만 주문해서 꾸준히 잘 먹고있습니다"
            ]
          },
          "metadata": {
            "tags": []
          },
          "execution_count": 16
        }
      ]
    },
    {
      "cell_type": "markdown",
      "metadata": {
        "id": "csUvVTEnAErD"
      },
      "source": [
        "#### 토큰화 - Mecab 사용"
      ]
    },
    {
      "cell_type": "code",
      "metadata": {
        "id": "P5ITG4SVAGZK"
      },
      "source": [
        "from konlpy.tag import Okt\n",
        "okt = Okt()"
      ],
      "execution_count": 17,
      "outputs": []
    },
    {
      "cell_type": "code",
      "metadata": {
        "id": "T0-mdBaDAZKb"
      },
      "source": [
        "stopwords = ['요', '도', '는', '다', '의', '가', '이', '은', '한', '에', '하', '고', '을', '를', '인', '듯', '과', '와', '네', '들', '듯', '지', '임', '게']"
      ],
      "execution_count": 18,
      "outputs": []
    },
    {
      "cell_type": "code",
      "metadata": {
        "id": "7CUMWQzxAdWn"
      },
      "source": [
        "train['tokenized'] = train['reviews'].apply(okt.morphs)\n",
        "train['tokenized'] = train['tokenized'].apply(lambda x: [item for item in x if item not in stopwords])"
      ],
      "execution_count": 19,
      "outputs": []
    },
    {
      "cell_type": "code",
      "metadata": {
        "id": "5BEiUMjWAhzP"
      },
      "source": [
        "val['tokenized'] = val['reviews'].apply(okt.morphs)\n",
        "val['tokenized'] = val['tokenized'].apply(lambda x: [item for item in x if item not in stopwords])"
      ],
      "execution_count": 20,
      "outputs": []
    },
    {
      "cell_type": "code",
      "metadata": {
        "id": "zQjvKGk2CC0o"
      },
      "source": [
        "test['tokenized'] = test['reviews'].apply(okt.morphs)\n",
        "test['tokenized'] = test['tokenized'].apply(lambda x: [item for item in x if item not in stopwords])"
      ],
      "execution_count": 21,
      "outputs": []
    },
    {
      "cell_type": "code",
      "metadata": {
        "colab": {
          "base_uri": "https://localhost:8080/",
          "height": 204
        },
        "id": "cbazAYKTCLay",
        "outputId": "6ca60ffa-f662-44cc-cafe-e49cc6205890"
      },
      "source": [
        "train.head()"
      ],
      "execution_count": 22,
      "outputs": [
        {
          "output_type": "execute_result",
          "data": {
            "text/html": [
              "<div>\n",
              "<style scoped>\n",
              "    .dataframe tbody tr th:only-of-type {\n",
              "        vertical-align: middle;\n",
              "    }\n",
              "\n",
              "    .dataframe tbody tr th {\n",
              "        vertical-align: top;\n",
              "    }\n",
              "\n",
              "    .dataframe thead th {\n",
              "        text-align: right;\n",
              "    }\n",
              "</style>\n",
              "<table border=\"1\" class=\"dataframe\">\n",
              "  <thead>\n",
              "    <tr style=\"text-align: right;\">\n",
              "      <th></th>\n",
              "      <th>ratings</th>\n",
              "      <th>reviews</th>\n",
              "      <th>label</th>\n",
              "      <th>tokenized</th>\n",
              "    </tr>\n",
              "  </thead>\n",
              "  <tbody>\n",
              "    <tr>\n",
              "      <th>9529</th>\n",
              "      <td>1</td>\n",
              "      <td>진짜가방을 쨥처럽 보이게하네요 이건 환불불가이니 강매같은 느낌</td>\n",
              "      <td>0</td>\n",
              "      <td>[진짜, 가방, 쨥처럽, 보이, 하네요, 이건, 환불, 불가, 이니, 강매, 같은,...</td>\n",
              "    </tr>\n",
              "    <tr>\n",
              "      <th>28910</th>\n",
              "      <td>1</td>\n",
              "      <td>흰색인줄 알앗더니 아이보리색깔이네요 아쉬워요</td>\n",
              "      <td>0</td>\n",
              "      <td>[흰색, 줄, 알앗더니, 아이보리, 색깔, 이네, 아쉬워요]</td>\n",
              "    </tr>\n",
              "    <tr>\n",
              "      <th>25065</th>\n",
              "      <td>2</td>\n",
              "      <td>그냥 저렴해보이네요 특히 압축봉은 최악</td>\n",
              "      <td>0</td>\n",
              "      <td>[그냥, 저렴, 해보이네요, 특히, 압축, 봉, 최악]</td>\n",
              "    </tr>\n",
              "    <tr>\n",
              "      <th>28446</th>\n",
              "      <td>2</td>\n",
              "      <td>재구매 솔직히 이번 살치살은 질기고 실망이였어요</td>\n",
              "      <td>0</td>\n",
              "      <td>[재구매, 솔직히, 이번, 살치, 살, 질, 기고, 실망, 였어요]</td>\n",
              "    </tr>\n",
              "    <tr>\n",
              "      <th>24724</th>\n",
              "      <td>1</td>\n",
              "      <td>사이즈는 딱 맞는데 깨져서 욌어요</td>\n",
              "      <td>0</td>\n",
              "      <td>[사이즈, 딱, 맞는데, 깨져서, 욌어요]</td>\n",
              "    </tr>\n",
              "  </tbody>\n",
              "</table>\n",
              "</div>"
            ],
            "text/plain": [
              "       ratings  ...                                          tokenized\n",
              "9529         1  ...  [진짜, 가방, 쨥처럽, 보이, 하네요, 이건, 환불, 불가, 이니, 강매, 같은,...\n",
              "28910        1  ...                  [흰색, 줄, 알앗더니, 아이보리, 색깔, 이네, 아쉬워요]\n",
              "25065        2  ...                     [그냥, 저렴, 해보이네요, 특히, 압축, 봉, 최악]\n",
              "28446        2  ...              [재구매, 솔직히, 이번, 살치, 살, 질, 기고, 실망, 였어요]\n",
              "24724        1  ...                            [사이즈, 딱, 맞는데, 깨져서, 욌어요]\n",
              "\n",
              "[5 rows x 4 columns]"
            ]
          },
          "metadata": {
            "tags": []
          },
          "execution_count": 22
        }
      ]
    },
    {
      "cell_type": "markdown",
      "metadata": {
        "id": "VZldbIHyCMlP"
      },
      "source": [
        "#### 단어 빈도에 따른 시각화 - Counter, Wordcloud 패키지 이용"
      ]
    },
    {
      "cell_type": "code",
      "metadata": {
        "id": "SCdbZ3TXrn9T"
      },
      "source": [
        "negative_words = np.hstack(train[train.label == 0]['tokenized'].values)\n",
        "positive_words = np.hstack(train[train.label == 1]['tokenized'].values)"
      ],
      "execution_count": 23,
      "outputs": []
    },
    {
      "cell_type": "code",
      "metadata": {
        "colab": {
          "base_uri": "https://localhost:8080/"
        },
        "id": "rsOptNu2FPsb",
        "outputId": "3b64ca69-5dfe-48a8-88b8-f5b9631ec34a"
      },
      "source": [
        "nw = Counter(negative_words)\n",
        "print(nw.most_common(20))"
      ],
      "execution_count": 24,
      "outputs": [
        {
          "output_type": "stream",
          "text": [
            "[('너무', 2807), ('안', 2558), ('배송', 2027), ('그냥', 1892), ('잘', 1718), ('로', 1313), ('별로', 1217), ('했는데', 1194), ('으로', 1181), ('못', 1130), ('제품', 1113), ('생각', 1093), ('ㅠㅠ', 1065), ('좀', 1053), ('하고', 1048), ('사용', 1019), ('구매', 1004), ('보다', 994), ('ㅠ', 871), ('맛', 865)]\n"
          ],
          "name": "stdout"
        }
      ]
    },
    {
      "cell_type": "code",
      "metadata": {
        "id": "uNH8VrGcGruI"
      },
      "source": [
        "nwc = nw.most_common(15)"
      ],
      "execution_count": 25,
      "outputs": []
    },
    {
      "cell_type": "code",
      "metadata": {
        "colab": {
          "base_uri": "https://localhost:8080/"
        },
        "id": "Krh_Su9tIQjJ",
        "outputId": "7c520f60-1a5b-4bc3-8c3e-78cab8f56de9"
      },
      "source": [
        "! pip install wordcloud"
      ],
      "execution_count": 26,
      "outputs": [
        {
          "output_type": "stream",
          "text": [
            "Requirement already satisfied: wordcloud in /usr/local/lib/python3.7/dist-packages (1.5.0)\n",
            "Requirement already satisfied: numpy>=1.6.1 in /usr/local/lib/python3.7/dist-packages (from wordcloud) (1.19.5)\n",
            "Requirement already satisfied: pillow in /usr/local/lib/python3.7/dist-packages (from wordcloud) (7.1.2)\n"
          ],
          "name": "stdout"
        }
      ]
    },
    {
      "cell_type": "code",
      "metadata": {
        "colab": {
          "base_uri": "https://localhost:8080/",
          "height": 501
        },
        "id": "5BTBhh6PCWO-",
        "outputId": "af026bac-7376-4962-a4b6-a7b19bfec2bc"
      },
      "source": [
        "from wordcloud import WordCloud\n",
        "\n",
        "#wordCloud생성\n",
        "#한글꺠지는 문제 해결하기위해 font_path 지정\n",
        "negative_word_cloud = WordCloud(font_path=fontpath, \n",
        "               background_color='white', width=800, height=600)\n",
        "print(dict(nwc))\n",
        "cloud = negative_word_cloud.generate_from_frequencies(dict(nwc))\n",
        "plt.figure(figsize=(10, 8))\n",
        "plt.title('Most Common Negative Words')\n",
        "plt.axis('off')\n",
        "plt.imshow(cloud)\n",
        "plt.show()"
      ],
      "execution_count": 27,
      "outputs": [
        {
          "output_type": "stream",
          "text": [
            "{'너무': 2807, '안': 2558, '배송': 2027, '그냥': 1892, '잘': 1718, '로': 1313, '별로': 1217, '했는데': 1194, '으로': 1181, '못': 1130, '제품': 1113, '생각': 1093, 'ㅠㅠ': 1065, '좀': 1053, '하고': 1048}\n"
          ],
          "name": "stdout"
        },
        {
          "output_type": "stream",
          "text": [
            "findfont: Font family ['NanumBarunGothic'] not found. Falling back to DejaVu Sans.\n"
          ],
          "name": "stderr"
        },
        {
          "output_type": "display_data",
          "data": {
            "image/png": "[encoded data removed]",
            "text/plain": [
              "<Figure size 720x576 with 1 Axes>"
            ]
          },
          "metadata": {
            "tags": [],
            "image/png": {
              "width": 572,
              "height": 448
            },
            "needs_background": "light"
          }
        }
      ]
    },
    {
      "cell_type": "code",
      "metadata": {
        "colab": {
          "base_uri": "https://localhost:8080/"
        },
        "id": "oxHQopCGr3Fj",
        "outputId": "b8eb4092-4227-4aba-fde5-b2bfe583a4c2"
      },
      "source": [
        "pw = Counter(positive_words)\n",
        "print(pw.most_common(20))"
      ],
      "execution_count": 28,
      "outputs": [
        {
          "output_type": "stream",
          "text": [
            "[('잘', 3249), ('좋아요', 3009), ('배송', 2621), ('너무', 1921), ('재구매', 1812), ('구매', 1527), ('사용', 1150), ('가격', 1062), ('로', 994), ('같아요', 957), ('으로', 919), ('좋네요', 881), ('제품', 875), ('보다', 865), ('빠르고', 850), ('입니다', 807), ('주문', 797), ('생각', 753), ('더', 736), ('했는데', 729)]\n"
          ],
          "name": "stdout"
        }
      ]
    },
    {
      "cell_type": "code",
      "metadata": {
        "id": "mhx06rhYJech"
      },
      "source": [
        "pwc = pw.most_common(15)"
      ],
      "execution_count": 29,
      "outputs": []
    },
    {
      "cell_type": "code",
      "metadata": {
        "colab": {
          "base_uri": "https://localhost:8080/",
          "height": 483
        },
        "id": "wIo2XdWYGSOk",
        "outputId": "db057da9-3e69-4823-8594-314bfc91dc60"
      },
      "source": [
        "positive_word_cloud = WordCloud(font_path=fontpath, \n",
        "               background_color='white', width=800, height=600)\n",
        "print(dict(pwc))\n",
        "cloud = positive_word_cloud.generate_from_frequencies(dict(pwc))\n",
        "plt.figure(figsize=(10, 8))\n",
        "plt.title('Most Common Positive Words')\n",
        "plt.axis('off')\n",
        "plt.imshow(cloud)\n",
        "plt.show()"
      ],
      "execution_count": 30,
      "outputs": [
        {
          "output_type": "stream",
          "text": [
            "{'잘': 3249, '좋아요': 3009, '배송': 2621, '너무': 1921, '재구매': 1812, '구매': 1527, '사용': 1150, '가격': 1062, '로': 994, '같아요': 957, '으로': 919, '좋네요': 881, '제품': 875, '보다': 865, '빠르고': 850}\n"
          ],
          "name": "stdout"
        },
        {
          "output_type": "display_data",
          "data": {
            "image/png": "[encoded data removed]",
            "text/plain": [
              "<Figure size 720x576 with 1 Axes>"
            ]
          },
          "metadata": {
            "tags": [],
            "image/png": {
              "width": 572,
              "height": 448
            },
            "needs_background": "light"
          }
        }
      ]
    },
    {
      "cell_type": "markdown",
      "metadata": {
        "id": "cXNL7TOkOJUm"
      },
      "source": [
        "#### 데이터에 정수 인코딩"
      ]
    },
    {
      "cell_type": "code",
      "metadata": {
        "id": "o0ua8aR8OsO2"
      },
      "source": [
        "X_train = train['tokenized'].values\n",
        "y_train = train['label'].values\n",
        "X_val= val['tokenized'].values\n",
        "y_val = val['label'].values\n",
        "X_test = test['tokenized'].values"
      ],
      "execution_count": 31,
      "outputs": []
    },
    {
      "cell_type": "code",
      "metadata": {
        "id": "QaE2Cq0aNgD2"
      },
      "source": [
        "tokenizer = Tokenizer()\n",
        "tokenizer.fit_on_texts(train)"
      ],
      "execution_count": 32,
      "outputs": []
    },
    {
      "cell_type": "code",
      "metadata": {
        "colab": {
          "base_uri": "https://localhost:8080/"
        },
        "id": "Z58AotVHP8iL",
        "outputId": "ff768c47-7ca0-43b1-daa2-794bae6708ca"
      },
      "source": [
        "threshold = 2\n",
        "total_cnt = len(tokenizer.word_index) # 단어의 수\n",
        "rare_cnt = 0 # 등장 빈도수가 threshold보다 작은 단어의 개수를 카운트\n",
        "total_freq = 0 # 훈련 데이터의 전체 단어 빈도수 총 합\n",
        "rare_freq = 0 # 등장 빈도수가 threshold보다 작은 단어의 등장 빈도수의 총 합\n",
        "\n",
        "# 단어와 빈도수의 쌍(pair)을 key와 value로 받는다.\n",
        "for key, value in tokenizer.word_counts.items():\n",
        "    total_freq = total_freq + value\n",
        "\n",
        "    # 단어의 등장 빈도수가 threshold보다 작으면\n",
        "    if(value < threshold):\n",
        "        rare_cnt = rare_cnt + 1\n",
        "        rare_freq = rare_freq + value\n",
        "\n",
        "print('단어 집합(vocabulary)의 크기 :',total_cnt)\n",
        "print('등장 빈도가 %s번 이하인 희귀 단어의 수: %s'%(threshold - 1, rare_cnt))\n",
        "print(\"단어 집합에서 희귀 단어의 비율:\", (rare_cnt / total_cnt)*100)\n",
        "print(\"전체 등장 빈도에서 희귀 단어 등장 빈도 비율:\", (rare_freq / total_freq)*100)\n",
        "\n"
      ],
      "execution_count": 33,
      "outputs": [
        {
          "output_type": "stream",
          "text": [
            "단어 집합(vocabulary)의 크기 : 4\n",
            "등장 빈도가 1번 이하인 희귀 단어의 수: 4\n",
            "단어 집합에서 희귀 단어의 비율: 100.0\n",
            "전체 등장 빈도에서 희귀 단어 등장 빈도 비율: 100.0\n"
          ],
          "name": "stdout"
        }
      ]
    },
    {
      "cell_type": "code",
      "metadata": {
        "colab": {
          "base_uri": "https://localhost:8080/"
        },
        "id": "jdU32TozQU6t",
        "outputId": "0f36559e-c70c-4e4f-9024-f60e1f24ba98"
      },
      "source": [
        "vocab_size = total_cnt - rare_cnt + 2\n",
        "print('단어 집합의 크기 :',vocab_size)"
      ],
      "execution_count": 34,
      "outputs": [
        {
          "output_type": "stream",
          "text": [
            "단어 집합의 크기 : 2\n"
          ],
          "name": "stdout"
        }
      ]
    },
    {
      "cell_type": "code",
      "metadata": {
        "id": "XEVQd-f0Plox"
      },
      "source": [
        "tokenizer = Tokenizer(vocab_size, oov_token = 'OOV') \n",
        "tokenizer.fit_on_texts(X_train)\n",
        "X_train = tokenizer.texts_to_sequences(X_train)\n",
        "X_val= tokenizer.texts_to_sequences(X_val)\n",
        "X_test = tokenizer.texts_to_sequences(X_test)"
      ],
      "execution_count": 35,
      "outputs": []
    },
    {
      "cell_type": "code",
      "metadata": {
        "colab": {
          "base_uri": "https://localhost:8080/",
          "height": 332
        },
        "id": "R3z5dn4nQbEl",
        "outputId": "ac8ac1e0-1796-47ec-c80b-510270d80009"
      },
      "source": [
        "print('리뷰의 최대 길이 :',max(len(l) for l in X_train))\n",
        "print('리뷰의 평균 길이 :',sum(map(len, X_train))/len(X_train))\n",
        "plt.hist([len(s) for s in X_train], bins=50)\n",
        "plt.xlabel('length of samples')\n",
        "plt.ylabel('number of samples')\n",
        "plt.show()"
      ],
      "execution_count": 36,
      "outputs": [
        {
          "output_type": "stream",
          "text": [
            "findfont: Font family ['NanumBarunGothic'] not found. Falling back to DejaVu Sans.\n"
          ],
          "name": "stderr"
        },
        {
          "output_type": "stream",
          "text": [
            "리뷰의 최대 길이 : 54\n",
            "리뷰의 평균 길이 : 12.399015845506314\n"
          ],
          "name": "stdout"
        },
        {
          "output_type": "display_data",
          "data": {
            "image/png": "[encoded data removed]",
            "text/plain": [
              "<Figure size 432x288 with 1 Axes>"
            ]
          },
          "metadata": {
            "tags": [],
            "image/png": {
              "width": 395,
              "height": 261
            },
            "needs_background": "light"
          }
        }
      ]
    },
    {
      "cell_type": "code",
      "metadata": {
        "id": "_2od_VSKQgaa"
      },
      "source": [
        "max_len = 80 #Padding 80으로\n",
        "X_train = pad_sequences(X_train, maxlen = max_len)\n",
        "X_val = pad_sequences(X_val, maxlen = max_len)\n",
        "X_test = pad_sequences(X_test, maxlen = max_len)"
      ],
      "execution_count": 37,
      "outputs": []
    },
    {
      "cell_type": "markdown",
      "metadata": {
        "id": "LGoU73vlQp1K"
      },
      "source": [
        "#### GRU 모델을 이용한 감성 분석"
      ]
    },
    {
      "cell_type": "code",
      "metadata": {
        "id": "2KZ3qkFhQpbm"
      },
      "source": [
        "from tensorflow.keras.layers import Embedding, Dense, GRU\n",
        "from tensorflow.keras.models import Sequential\n",
        "from tensorflow.keras.models import load_model\n",
        "from tensorflow.keras.callbacks import EarlyStopping, ModelCheckpoint"
      ],
      "execution_count": 38,
      "outputs": []
    },
    {
      "cell_type": "code",
      "metadata": {
        "id": "v1Vn7U-qQvlR"
      },
      "source": [
        "model = Sequential()\n",
        "model.add(Embedding(vocab_size, 100))\n",
        "model.add(GRU(128))\n",
        "model.add(Dense(1, activation='sigmoid'))"
      ],
      "execution_count": 39,
      "outputs": []
    },
    {
      "cell_type": "code",
      "metadata": {
        "colab": {
          "base_uri": "https://localhost:8080/"
        },
        "id": "Mu_D-gOKVEg6",
        "outputId": "f9588231-5bfa-4a19-b766-e35763941932"
      },
      "source": [
        "model.summary()"
      ],
      "execution_count": 40,
      "outputs": [
        {
          "output_type": "stream",
          "text": [
            "Model: \"sequential\"\n",
            "_________________________________________________________________\n",
            "Layer (type)                 Output Shape              Param #   \n",
            "=================================================================\n",
            "embedding (Embedding)        (None, None, 100)         200       \n",
            "_________________________________________________________________\n",
            "gru (GRU)                    (None, 128)               88320     \n",
            "_________________________________________________________________\n",
            "dense (Dense)                (None, 1)                 129       \n",
            "=================================================================\n",
            "Total params: 88,649\n",
            "Trainable params: 88,649\n",
            "Non-trainable params: 0\n",
            "_________________________________________________________________\n"
          ],
          "name": "stdout"
        }
      ]
    },
    {
      "cell_type": "code",
      "metadata": {
        "id": "GxieWJpoQzAD"
      },
      "source": [
        "es = EarlyStopping(monitor='val_loss', mode='min', verbose=1, patience=4)\n",
        "mc = ModelCheckpoint('best_model.h5', monitor='val_acc', mode='max', verbose=1, save_best_only=True)"
      ],
      "execution_count": 41,
      "outputs": []
    },
    {
      "cell_type": "code",
      "metadata": {
        "colab": {
          "base_uri": "https://localhost:8080/"
        },
        "id": "bzuI0JlXQ0Fy",
        "outputId": "9327210c-f8aa-4421-97a7-3231c34ef5ff"
      },
      "source": [
        "model.compile(optimizer='rmsprop', loss='binary_crossentropy', metrics=['acc'])\n",
        "history = model.fit(X_train, y_train, epochs=15, callbacks=[es, mc], batch_size=60, validation_split=0.2)"
      ],
      "execution_count": 42,
      "outputs": [
        {
          "output_type": "stream",
          "text": [
            "Epoch 1/15\n",
            "431/431 [==============================] - 12s 10ms/step - loss: 0.6786 - acc: 0.5773 - val_loss: 0.6806 - val_acc: 0.5621\n",
            "\n",
            "Epoch 00001: val_acc improved from -inf to 0.56212, saving model to best_model.h5\n",
            "Epoch 2/15\n",
            "431/431 [==============================] - 4s 8ms/step - loss: 0.6756 - acc: 0.5809 - val_loss: 0.6774 - val_acc: 0.5708\n",
            "\n",
            "Epoch 00002: val_acc improved from 0.56212 to 0.57079, saving model to best_model.h5\n",
            "Epoch 3/15\n",
            "431/431 [==============================] - 4s 8ms/step - loss: 0.6746 - acc: 0.5805 - val_loss: 0.6824 - val_acc: 0.5759\n",
            "\n",
            "Epoch 00003: val_acc improved from 0.57079 to 0.57589, saving model to best_model.h5\n",
            "Epoch 4/15\n",
            "431/431 [==============================] - 4s 8ms/step - loss: 0.6744 - acc: 0.5843 - val_loss: 0.6774 - val_acc: 0.5759\n",
            "\n",
            "Epoch 00004: val_acc did not improve from 0.57589\n",
            "Epoch 5/15\n",
            "431/431 [==============================] - 4s 8ms/step - loss: 0.6741 - acc: 0.5834 - val_loss: 0.6773 - val_acc: 0.5756\n",
            "\n",
            "Epoch 00005: val_acc did not improve from 0.57589\n",
            "Epoch 6/15\n",
            "431/431 [==============================] - 3s 8ms/step - loss: 0.6739 - acc: 0.5838 - val_loss: 0.6767 - val_acc: 0.5759\n",
            "\n",
            "Epoch 00006: val_acc did not improve from 0.57589\n",
            "Epoch 7/15\n",
            "431/431 [==============================] - 4s 8ms/step - loss: 0.6735 - acc: 0.5854 - val_loss: 0.6770 - val_acc: 0.5762\n",
            "\n",
            "Epoch 00007: val_acc improved from 0.57589 to 0.57620, saving model to best_model.h5\n",
            "Epoch 8/15\n",
            "431/431 [==============================] - 4s 8ms/step - loss: 0.6734 - acc: 0.5848 - val_loss: 0.6785 - val_acc: 0.5716\n",
            "\n",
            "Epoch 00008: val_acc did not improve from 0.57620\n",
            "Epoch 9/15\n",
            "431/431 [==============================] - 3s 8ms/step - loss: 0.6734 - acc: 0.5832 - val_loss: 0.6772 - val_acc: 0.5756\n",
            "\n",
            "Epoch 00009: val_acc did not improve from 0.57620\n",
            "Epoch 10/15\n",
            "431/431 [==============================] - 3s 8ms/step - loss: 0.6734 - acc: 0.5829 - val_loss: 0.6791 - val_acc: 0.5756\n",
            "\n",
            "Epoch 00010: val_acc did not improve from 0.57620\n",
            "Epoch 00010: early stopping\n"
          ],
          "name": "stdout"
        }
      ]
    },
    {
      "cell_type": "markdown",
      "metadata": {
        "id": "ohacT3ZYUTYp"
      },
      "source": [
        "#### BiLSTM 모델을 이용한 감성 분석"
      ]
    },
    {
      "cell_type": "code",
      "metadata": {
        "id": "ksBxvT3yUWTa"
      },
      "source": [
        "from tensorflow.keras.layers import LSTM, Bidirectional\n",
        "\n",
        "model_lstm = Sequential()\n",
        "model_lstm.add(Embedding(vocab_size, 100))\n",
        "model_lstm.add(Bidirectional(LSTM(100)))\n",
        "model_lstm.add(Dense(1, activation='sigmoid'))"
      ],
      "execution_count": 43,
      "outputs": []
    },
    {
      "cell_type": "code",
      "metadata": {
        "colab": {
          "base_uri": "https://localhost:8080/"
        },
        "id": "GbKGXuOlVJGi",
        "outputId": "308b08a5-17bc-40da-e2e5-c18bd08998ff"
      },
      "source": [
        "model_lstm.summary()"
      ],
      "execution_count": 44,
      "outputs": [
        {
          "output_type": "stream",
          "text": [
            "Model: \"sequential_1\"\n",
            "_________________________________________________________________\n",
            "Layer (type)                 Output Shape              Param #   \n",
            "=================================================================\n",
            "embedding_1 (Embedding)      (None, None, 100)         200       \n",
            "_________________________________________________________________\n",
            "bidirectional (Bidirectional (None, 200)               160800    \n",
            "_________________________________________________________________\n",
            "dense_1 (Dense)              (None, 1)                 201       \n",
            "=================================================================\n",
            "Total params: 161,201\n",
            "Trainable params: 161,201\n",
            "Non-trainable params: 0\n",
            "_________________________________________________________________\n"
          ],
          "name": "stdout"
        }
      ]
    },
    {
      "cell_type": "code",
      "metadata": {
        "id": "LSfrDTReUrmr"
      },
      "source": [
        "es_lstm = EarlyStopping(monitor='val_loss', mode='min', verbose=1, patience=4)\n",
        "mc_lstm = ModelCheckpoint('best_model.h5', monitor='val_acc', mode='max', verbose=1, save_best_only=True)"
      ],
      "execution_count": 45,
      "outputs": []
    },
    {
      "cell_type": "code",
      "metadata": {
        "colab": {
          "base_uri": "https://localhost:8080/"
        },
        "id": "kmTiF6zxUviL",
        "outputId": "224c3ba2-384b-4128-e456-76efa5d22a96"
      },
      "source": [
        "model_lstm.compile(optimizer='rmsprop', loss='binary_crossentropy', metrics=['acc'])\n",
        "history = model.fit(X_train, y_train, epochs=15, callbacks=[es, mc], batch_size=256, validation_split=0.2)"
      ],
      "execution_count": 46,
      "outputs": [
        {
          "output_type": "stream",
          "text": [
            "Epoch 1/15\n",
            "101/101 [==============================] - 2s 18ms/step - loss: 0.6727 - acc: 0.5867 - val_loss: 0.6765 - val_acc: 0.5762\n",
            "\n",
            "Epoch 00001: val_acc did not improve from 0.57620\n",
            "Epoch 2/15\n",
            "101/101 [==============================] - 1s 14ms/step - loss: 0.6725 - acc: 0.5857 - val_loss: 0.6781 - val_acc: 0.5756\n",
            "\n",
            "Epoch 00002: val_acc did not improve from 0.57620\n",
            "Epoch 3/15\n",
            "101/101 [==============================] - 1s 14ms/step - loss: 0.6725 - acc: 0.5845 - val_loss: 0.6777 - val_acc: 0.5762\n",
            "\n",
            "Epoch 00003: val_acc did not improve from 0.57620\n",
            "Epoch 4/15\n",
            "101/101 [==============================] - 1s 14ms/step - loss: 0.6725 - acc: 0.5849 - val_loss: 0.6767 - val_acc: 0.5716\n",
            "\n",
            "Epoch 00004: val_acc did not improve from 0.57620\n",
            "Epoch 5/15\n",
            "101/101 [==============================] - 1s 14ms/step - loss: 0.6727 - acc: 0.5855 - val_loss: 0.6768 - val_acc: 0.5716\n",
            "\n",
            "Epoch 00005: val_acc did not improve from 0.57620\n",
            "Epoch 00005: early stopping\n"
          ],
          "name": "stdout"
        }
      ]
    },
    {
      "cell_type": "code",
      "metadata": {
        "id": "Mvy8_Vi6RuB9"
      },
      "source": [
        "y_pred = model_lstm.predict(X_test)"
      ],
      "execution_count": 47,
      "outputs": []
    },
    {
      "cell_type": "code",
      "metadata": {
        "id": "7I6OlsQsR9Aw"
      },
      "source": [
        "test['label'] = test['ratings'].apply(star_evaluate)"
      ],
      "execution_count": 48,
      "outputs": []
    },
    {
      "cell_type": "code",
      "metadata": {
        "id": "7u4ae1_QVXr1"
      },
      "source": [
        "test['tokenized'] = test['reviews'].apply(okt.morphs)\n",
        "test['tokenized'] = test['tokenized'].apply(lambda x: [item for item in x if item not in stopwords])"
      ],
      "execution_count": null,
      "outputs": []
    },
    {
      "cell_type": "code",
      "metadata": {
        "id": "DMVWcifFS-gZ"
      },
      "source": [
        "def sentiment_predict(df):\n",
        "  df = okt.morphs(df) # 토큰화\n",
        "  df = [word for word in df if not word in stopwords]\n",
        "  encoded = tokenizer.texts_to_sequences(df)\n",
        "  pad_new = pad_sequences(encoded, maxlen = max_len) \n",
        "  score = float(model_lstm.predict(pad_new))\n",
        "  if score > 0.5:\n",
        "    print(\"{:.2f}% 확률로 긍정 리뷰입니다.\".format(score * 100))\n",
        "  else:\n",
        "    print(\"{:.2f}% 확률로 부정 리뷰입니다.\".format((1 - score) * 100))"
      ],
      "execution_count": 63,
      "outputs": []
    },
    {
      "cell_type": "code",
      "metadata": {
        "id": "sqXk-lsBUNO1",
        "outputId": "ad1b2f3c-4fa2-4749-d94d-7ff1ed8f6fa4",
        "colab": {
          "base_uri": "https://localhost:8080/"
        }
      },
      "source": [
        "X_test"
      ],
      "execution_count": 54,
      "outputs": [
        {
          "output_type": "execute_result",
          "data": {
            "text/plain": [
              "array([[0, 0, 0, ..., 1, 1, 1],\n",
              "       [0, 0, 0, ..., 1, 1, 1],\n",
              "       [0, 0, 0, ..., 1, 1, 1],\n",
              "       ...,\n",
              "       [0, 0, 0, ..., 1, 1, 1],\n",
              "       [0, 0, 0, ..., 1, 1, 1],\n",
              "       [0, 0, 0, ..., 1, 1, 1]], dtype=int32)"
            ]
          },
          "metadata": {
            "tags": []
          },
          "execution_count": 54
        }
      ]
    },
    {
      "cell_type": "code",
      "metadata": {
        "id": "MP8Y5mIwSX0V",
        "outputId": "63d9f0bd-859e-47c1-f6bd-e2a70ce06436",
        "colab": {
          "base_uri": "https://localhost:8080/",
          "height": 376
        }
      },
      "source": [
        "prediction = test.copy()\n",
        "prediction['predicted'] = test['reviews'].apply(sentiment_predict)"
      ],
      "execution_count": 64,
      "outputs": [
        {
          "output_type": "error",
          "ename": "TypeError",
          "evalue": "ignored",
          "traceback": [
            "\u001b[0;31m---------------------------------------------------------------------------\u001b[0m",
            "\u001b[0;31mTypeError\u001b[0m                                 Traceback (most recent call last)",
            "\u001b[0;32m<ipython-input-64-cbe8a5f2f7dc>\u001b[0m in \u001b[0;36m<module>\u001b[0;34m()\u001b[0m\n\u001b[1;32m      1\u001b[0m \u001b[0mprediction\u001b[0m \u001b[0;34m=\u001b[0m \u001b[0mtest\u001b[0m\u001b[0;34m.\u001b[0m\u001b[0mcopy\u001b[0m\u001b[0;34m(\u001b[0m\u001b[0;34m)\u001b[0m\u001b[0;34m\u001b[0m\u001b[0;34m\u001b[0m\u001b[0m\n\u001b[0;32m----> 2\u001b[0;31m \u001b[0mprediction\u001b[0m\u001b[0;34m[\u001b[0m\u001b[0;34m'predicted'\u001b[0m\u001b[0;34m]\u001b[0m \u001b[0;34m=\u001b[0m \u001b[0mtest\u001b[0m\u001b[0;34m[\u001b[0m\u001b[0;34m'reviews'\u001b[0m\u001b[0;34m]\u001b[0m\u001b[0;34m.\u001b[0m\u001b[0mapply\u001b[0m\u001b[0;34m(\u001b[0m\u001b[0msentiment_predict\u001b[0m\u001b[0;34m)\u001b[0m\u001b[0;34m\u001b[0m\u001b[0;34m\u001b[0m\u001b[0m\n\u001b[0m",
            "\u001b[0;32m/usr/local/lib/python3.7/dist-packages/pandas/core/series.py\u001b[0m in \u001b[0;36mapply\u001b[0;34m(self, func, convert_dtype, args, **kwds)\u001b[0m\n\u001b[1;32m   4211\u001b[0m             \u001b[0;32melse\u001b[0m\u001b[0;34m:\u001b[0m\u001b[0;34m\u001b[0m\u001b[0;34m\u001b[0m\u001b[0m\n\u001b[1;32m   4212\u001b[0m                 \u001b[0mvalues\u001b[0m \u001b[0;34m=\u001b[0m \u001b[0mself\u001b[0m\u001b[0;34m.\u001b[0m\u001b[0mastype\u001b[0m\u001b[0;34m(\u001b[0m\u001b[0mobject\u001b[0m\u001b[0;34m)\u001b[0m\u001b[0;34m.\u001b[0m\u001b[0m_values\u001b[0m\u001b[0;34m\u001b[0m\u001b[0;34m\u001b[0m\u001b[0m\n\u001b[0;32m-> 4213\u001b[0;31m                 \u001b[0mmapped\u001b[0m \u001b[0;34m=\u001b[0m \u001b[0mlib\u001b[0m\u001b[0;34m.\u001b[0m\u001b[0mmap_infer\u001b[0m\u001b[0;34m(\u001b[0m\u001b[0mvalues\u001b[0m\u001b[0;34m,\u001b[0m \u001b[0mf\u001b[0m\u001b[0;34m,\u001b[0m \u001b[0mconvert\u001b[0m\u001b[0;34m=\u001b[0m\u001b[0mconvert_dtype\u001b[0m\u001b[0;34m)\u001b[0m\u001b[0;34m\u001b[0m\u001b[0;34m\u001b[0m\u001b[0m\n\u001b[0m\u001b[1;32m   4214\u001b[0m \u001b[0;34m\u001b[0m\u001b[0m\n\u001b[1;32m   4215\u001b[0m         \u001b[0;32mif\u001b[0m \u001b[0mlen\u001b[0m\u001b[0;34m(\u001b[0m\u001b[0mmapped\u001b[0m\u001b[0;34m)\u001b[0m \u001b[0;32mand\u001b[0m \u001b[0misinstance\u001b[0m\u001b[0;34m(\u001b[0m\u001b[0mmapped\u001b[0m\u001b[0;34m[\u001b[0m\u001b[0;36m0\u001b[0m\u001b[0;34m]\u001b[0m\u001b[0;34m,\u001b[0m \u001b[0mSeries\u001b[0m\u001b[0;34m)\u001b[0m\u001b[0;34m:\u001b[0m\u001b[0;34m\u001b[0m\u001b[0;34m\u001b[0m\u001b[0m\n",
            "\u001b[0;32mpandas/_libs/lib.pyx\u001b[0m in \u001b[0;36mpandas._libs.lib.map_infer\u001b[0;34m()\u001b[0m\n",
            "\u001b[0;32m<ipython-input-63-b579d793f734>\u001b[0m in \u001b[0;36msentiment_predict\u001b[0;34m(df)\u001b[0m\n\u001b[1;32m      4\u001b[0m   \u001b[0mencoded\u001b[0m \u001b[0;34m=\u001b[0m \u001b[0mtokenizer\u001b[0m\u001b[0;34m.\u001b[0m\u001b[0mtexts_to_sequences\u001b[0m\u001b[0;34m(\u001b[0m\u001b[0mdf\u001b[0m\u001b[0;34m)\u001b[0m\u001b[0;34m\u001b[0m\u001b[0;34m\u001b[0m\u001b[0m\n\u001b[1;32m      5\u001b[0m   \u001b[0mpad_new\u001b[0m \u001b[0;34m=\u001b[0m \u001b[0mpad_sequences\u001b[0m\u001b[0;34m(\u001b[0m\u001b[0mencoded\u001b[0m\u001b[0;34m,\u001b[0m \u001b[0mmaxlen\u001b[0m \u001b[0;34m=\u001b[0m \u001b[0mmax_len\u001b[0m\u001b[0;34m)\u001b[0m\u001b[0;34m\u001b[0m\u001b[0;34m\u001b[0m\u001b[0m\n\u001b[0;32m----> 6\u001b[0;31m   \u001b[0mscore\u001b[0m \u001b[0;34m=\u001b[0m \u001b[0mfloat\u001b[0m\u001b[0;34m(\u001b[0m\u001b[0mmodel_lstm\u001b[0m\u001b[0;34m.\u001b[0m\u001b[0mpredict\u001b[0m\u001b[0;34m(\u001b[0m\u001b[0mpad_new\u001b[0m\u001b[0;34m)\u001b[0m\u001b[0;34m)\u001b[0m\u001b[0;34m\u001b[0m\u001b[0;34m\u001b[0m\u001b[0m\n\u001b[0m\u001b[1;32m      7\u001b[0m   \u001b[0;32mif\u001b[0m \u001b[0mscore\u001b[0m \u001b[0;34m>\u001b[0m \u001b[0;36m0.5\u001b[0m\u001b[0;34m:\u001b[0m\u001b[0;34m\u001b[0m\u001b[0;34m\u001b[0m\u001b[0m\n\u001b[1;32m      8\u001b[0m     \u001b[0mprint\u001b[0m\u001b[0;34m(\u001b[0m\u001b[0;34m\"{:.2f}% 확률로 긍정 리뷰입니다.\"\u001b[0m\u001b[0;34m.\u001b[0m\u001b[0mformat\u001b[0m\u001b[0;34m(\u001b[0m\u001b[0mscore\u001b[0m \u001b[0;34m*\u001b[0m \u001b[0;36m100\u001b[0m\u001b[0;34m)\u001b[0m\u001b[0;34m)\u001b[0m\u001b[0;34m\u001b[0m\u001b[0;34m\u001b[0m\u001b[0m\n",
            "\u001b[0;31mTypeError\u001b[0m: only size-1 arrays can be converted to Python scalars"
          ]
        }
      ]
    },
    {
      "cell_type": "code",
      "metadata": {
        "id": "gSkfG2U2SiwO",
        "outputId": "4d75965b-faea-4266-c081-eaf9d765daf6",
        "colab": {
          "base_uri": "https://localhost:8080/",
          "height": 419
        }
      },
      "source": [
        "prediction"
      ],
      "execution_count": 50,
      "outputs": [
        {
          "output_type": "execute_result",
          "data": {
            "text/html": [
              "<div>\n",
              "<style scoped>\n",
              "    .dataframe tbody tr th:only-of-type {\n",
              "        vertical-align: middle;\n",
              "    }\n",
              "\n",
              "    .dataframe tbody tr th {\n",
              "        vertical-align: top;\n",
              "    }\n",
              "\n",
              "    .dataframe thead th {\n",
              "        text-align: right;\n",
              "    }\n",
              "</style>\n",
              "<table border=\"1\" class=\"dataframe\">\n",
              "  <thead>\n",
              "    <tr style=\"text-align: right;\">\n",
              "      <th></th>\n",
              "      <th>label</th>\n",
              "      <th>predicted_label</th>\n",
              "    </tr>\n",
              "  </thead>\n",
              "  <tbody>\n",
              "    <tr>\n",
              "      <th>6544</th>\n",
              "      <td>0</td>\n",
              "      <td>0.502066</td>\n",
              "    </tr>\n",
              "    <tr>\n",
              "      <th>629</th>\n",
              "      <td>1</td>\n",
              "      <td>0.501829</td>\n",
              "    </tr>\n",
              "    <tr>\n",
              "      <th>20764</th>\n",
              "      <td>0</td>\n",
              "      <td>0.503615</td>\n",
              "    </tr>\n",
              "    <tr>\n",
              "      <th>1152</th>\n",
              "      <td>1</td>\n",
              "      <td>0.504284</td>\n",
              "    </tr>\n",
              "    <tr>\n",
              "      <th>25813</th>\n",
              "      <td>1</td>\n",
              "      <td>0.502627</td>\n",
              "    </tr>\n",
              "    <tr>\n",
              "      <th>...</th>\n",
              "      <td>...</td>\n",
              "      <td>...</td>\n",
              "    </tr>\n",
              "    <tr>\n",
              "      <th>5701</th>\n",
              "      <td>1</td>\n",
              "      <td>0.501645</td>\n",
              "    </tr>\n",
              "    <tr>\n",
              "      <th>7083</th>\n",
              "      <td>1</td>\n",
              "      <td>0.501830</td>\n",
              "    </tr>\n",
              "    <tr>\n",
              "      <th>1940</th>\n",
              "      <td>0</td>\n",
              "      <td>0.504085</td>\n",
              "    </tr>\n",
              "    <tr>\n",
              "      <th>20864</th>\n",
              "      <td>0</td>\n",
              "      <td>0.504530</td>\n",
              "    </tr>\n",
              "    <tr>\n",
              "      <th>16510</th>\n",
              "      <td>1</td>\n",
              "      <td>0.503168</td>\n",
              "    </tr>\n",
              "  </tbody>\n",
              "</table>\n",
              "<p>4040 rows × 2 columns</p>\n",
              "</div>"
            ],
            "text/plain": [
              "       label  predicted_label\n",
              "6544       0         0.502066\n",
              "629        1         0.501829\n",
              "20764      0         0.503615\n",
              "1152       1         0.504284\n",
              "25813      1         0.502627\n",
              "...      ...              ...\n",
              "5701       1         0.501645\n",
              "7083       1         0.501830\n",
              "1940       0         0.504085\n",
              "20864      0         0.504530\n",
              "16510      1         0.503168\n",
              "\n",
              "[4040 rows x 2 columns]"
            ]
          },
          "metadata": {
            "tags": []
          },
          "execution_count": 50
        }
      ]
    }
  ]
}